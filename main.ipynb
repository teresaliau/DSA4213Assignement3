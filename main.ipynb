{
  "nbformat": 4,
  "nbformat_minor": 0,
  "metadata": {
    "colab": {
      "provenance": [],
      "gpuType": "T4",
      "mount_file_id": "1ohAgLnMlPj1lfvw9X37UORiqHOGYhQiI",
      "authorship_tag": "ABX9TyOlfkluPUeWXDMGSSuqU+rd",
      "include_colab_link": true
    },
    "kernelspec": {
      "name": "python3",
      "display_name": "Python 3"
    },
    "language_info": {
      "name": "python"
    },
    "accelerator": "GPU"
  },
  "cells": [
    {
      "cell_type": "markdown",
      "metadata": {
        "id": "view-in-github",
        "colab_type": "text"
      },
      "source": [
        "<a href=\"https://colab.research.google.com/github/teresaliau/DSA4213Assignement3/blob/main/main.ipynb\" target=\"_parent\"><img src=\"https://colab.research.google.com/assets/colab-badge.svg\" alt=\"Open In Colab\"/></a>"
      ]
    },
    {
      "cell_type": "code",
      "source": [
        "\n",
        "import torch\n",
        "import json\n",
        "from transformers import AutoTokenizer, AutoModelForSequenceClassification\n",
        "from peft import PeftModel\n",
        "from datasets import load_dataset\n",
        "import numpy as np\n",
        "from sklearn.metrics import classification_report, confusion_matrix\n",
        "import matplotlib.pyplot as plt\n",
        "import seaborn as sns\n",
        "from google.colab import drive\n",
        "import os\n",
        "import torch\n",
        "from transformers import AutoTokenizer, AutoModelForSequenceClassification\n",
        "from peft import PeftModel\n",
        "\n",
        "import os"
      ],
      "metadata": {
        "id": "FZaCpE-x9Fn9"
      },
      "execution_count": null,
      "outputs": []
    },
    {
      "cell_type": "code",
      "source": [
        "# Mount Google Drive\n",
        "drive.mount('/content/drive')"
      ],
      "metadata": {
        "id": "ZLv0IURZ27kv"
      },
      "execution_count": null,
      "outputs": []
    },
    {
      "cell_type": "code",
      "source": [
        "# Define model paths (update these to your specific folder structure on Google Drive)\n",
        "model_full_path = '/content/drive/MyDrive/model_full_finetuned'\n",
        "model_lora_path = '/content/drive/MyDrive/model_lora_adapter'\n",
        "\n",
        "# Check if models exist in the mounted Google Drive\n",
        "if not os.path.exists(model_full_path):\n",
        "    print(\"\\\\nERROR: ./model_full_finetuned/ not found!\")\n",
        "    print(\"Please download from: https://drive.google.com/drive/folders/1exOmAGt4iIYT3tBniyPrJHAzLbUnJLKy\")\n",
        "    exit(1)\n",
        "\n",
        "if not os.path.exists(model_lora_path):\n",
        "    print(\"\\\\nERROR: ./model_lora_adapter/ not found!\")\n",
        "    print(\"Please download from: https://drive.google.com/drive/folders/1G0PzrUMzjJ4ZNlyt_h_4X5t6X8fY0BK-\")\n",
        "    exit(1)\n"
      ],
      "metadata": {
        "id": "IM_WTcYtDNT-"
      },
      "execution_count": null,
      "outputs": []
    },
    {
      "cell_type": "code",
      "source": [
        "\n",
        "\n",
        "# Setup\n",
        "device = torch.device(\"cuda\" if torch.cuda.is_available() else \"cpu\")\n",
        "print(f\"\\\\nDevice: {device}\")\n",
        "\n",
        "label_names = ['sadness', 'joy', 'love', 'anger', 'fear', 'surprise']\n",
        "\n",
        "# Load tokenizer\n",
        "print(\"\\\\nLoading tokenizer...\")\n",
        "tokenizer = AutoTokenizer.from_pretrained(\"distilbert-base-uncased\")\n",
        "\n",
        "# Load models\n",
        "print(\"Loading Full Fine-tuned model...\")\n",
        "model_full = AutoModelForSequenceClassification.from_pretrained(\n",
        "    model_full_path, num_labels=6\n",
        ").to(device)\n",
        "\n",
        "print(\"Loading LoRA adapter...\")\n",
        "base_model = AutoModelForSequenceClassification.from_pretrained(\n",
        "    \"distilbert-base-uncased\", num_labels=6\n",
        ").to(device)\n",
        "model_lora = PeftModel.from_pretrained(base_model, model_lora_path)\n",
        "\n",
        "print(\"\\\\nModels loaded successfully!\")"
      ],
      "metadata": {
        "id": "sSXy1bEVDDM6"
      },
      "execution_count": null,
      "outputs": []
    },
    {
      "cell_type": "code",
      "source": [
        "\n",
        "\n",
        "# Load test data\n",
        "print(\"\\\\nLoading test dataset...\")\n",
        "dataset = load_dataset(\"emotion\")\n",
        "\n",
        "def tokenize_function(examples):\n",
        "    return tokenizer(examples[\"text\"], padding=\"max_length\",\n",
        "                    truncation=True, max_length=128)\n",
        "\n",
        "tokenized_datasets = dataset.map(tokenize_function, batched=True)\n",
        "val_test = tokenized_datasets['validation'].train_test_split(test_size=0.5, seed=42)\n",
        "test_dataset = val_test['test']\n",
        "\n",
        "print(f\"Test examples: {len(test_dataset)}\")\n",
        "\n",
        "# Evaluate function\n",
        "def evaluate_model(model, dataset, model_name):\n",
        "    model.eval()\n",
        "    predictions = []\n",
        "    true_labels = dataset['label']\n",
        "\n",
        "    print(f\"\\\\nEvaluating {model_name}...\")\n",
        "    for i in range(len(dataset)):\n",
        "        inputs = tokenizer(dataset[i]['text'], return_tensors=\"pt\",\n",
        "                          truncation=True, max_length=128, padding=True)\n",
        "        inputs = {k: v.to(device) for k, v in inputs.items()}\n",
        "\n",
        "        with torch.no_grad():\n",
        "            outputs = model(**inputs)\n",
        "            pred = torch.argmax(outputs.logits, dim=-1).item()\n",
        "            predictions.append(pred)\n",
        "\n",
        "    # Calculate metrics\n",
        "    accuracy = sum(p == t for p, t in zip(predictions, true_labels)) / len(true_labels)\n",
        "\n",
        "    print(f\"  Accuracy: {accuracy:.4f}\")\n",
        "\n",
        "    return predictions, true_labels\n",
        "\n",
        "# Evaluate both models\n",
        "preds_full, true_labels = evaluate_model(model_full, test_dataset, \"Full Fine-tuning\")\n",
        "preds_lora, _ = evaluate_model(model_lora, test_dataset, \"LoRA\")\n",
        "\n",
        "# Generate confusion matrices\n",
        "print(\"\\\\nGenerating visualizations...\")\n",
        "cm_full = confusion_matrix(true_labels, preds_full)\n",
        "cm_lora = confusion_matrix(true_labels, preds_lora)\n",
        "\n",
        "fig, axes = plt.subplots(1, 2, figsize=(14, 5))\n",
        "\n",
        "sns.heatmap(cm_full, annot=True, fmt='d', cmap='Blues',\n",
        "            xticklabels=label_names, yticklabels=label_names, ax=axes[0])\n",
        "axes[0].set_title('Full Fine-tuning')\n",
        "axes[0].set_ylabel('True Label')\n",
        "axes[0].set_xlabel('Predicted Label')\n",
        "\n",
        "sns.heatmap(cm_lora, annot=True, fmt='d', cmap='Greens',\n",
        "            xticklabels=label_names, yticklabels=label_names, ax=axes[1])\n",
        "axes[1].set_title('LoRA')\n",
        "axes[1].set_ylabel('True Label')\n",
        "axes[1].set_xlabel('Predicted Label')\n",
        "\n",
        "plt.tight_layout()\n",
        "plt.savefig('confusion_matrices_reproduced.png', dpi=300)\n",
        "print(\"Saved: confusion_matrices_reproduced.png\")\n",
        "\n",
        "# Classification reports\n",
        "print(\"\\\\n\" + \"=\"*70)\n",
        "print(\"Full Fine-tuning Classification Report:\")\n",
        "print(\"=\"*70)\n",
        "print(classification_report(true_labels, preds_full, target_names=label_names))\n",
        "\n",
        "print(\"\\\\n\" + \"=\"*70)\n",
        "print(\"LoRA Classification Report:\")\n",
        "print(\"=\"*70)\n",
        "print(classification_report(true_labels, preds_lora, target_names=label_names))\n",
        "\n",
        "\n",
        "# Interactive demo\n",
        "print(\"\\n\" + \"=\"*70)\n",
        "print(\"Interactive Demo - Test Your Own Sentences!\")\n",
        "print(\"=\"*70)\n",
        "print(\"(Press Enter without text to exit)\\n\")\n",
        "\n",
        "def predict_emotion(text):\n",
        "    inputs = tokenizer(text, return_tensors=\"pt\", truncation=True,\n",
        "                      max_length=128, padding=True)\n",
        "    inputs = {k: v.to(device) for k, v in inputs.items()}\n",
        "\n",
        "    # Full FT\n",
        "    model_full.eval()\n",
        "    with torch.no_grad():\n",
        "        outputs_full = model_full(**inputs)\n",
        "        probs_full = torch.nn.functional.softmax(outputs_full.logits, dim=-1)[0]\n",
        "        pred_full = torch.argmax(probs_full).item()\n",
        "\n",
        "    # LoRA\n",
        "    model_lora.eval()\n",
        "    with torch.no_grad():\n",
        "        outputs_lora = model_lora(**inputs)\n",
        "        probs_lora = torch.nn.functional.softmax(outputs_lora.logits, dim=-1)[0]\n",
        "        pred_lora = torch.argmax(probs_lora).item()\n",
        "\n",
        "    print(f\"\\nText: \\\"{text}\\\"\")\n",
        "    print(f\"Full FT: {label_names[pred_full].upper()} ({probs_full[pred_full]*100:.1f}%)\")\n",
        "    print(f\"LoRA:    {label_names[pred_lora].upper()} ({probs_lora[pred_lora]*100:.1f}%)\")\n",
        "    if pred_full == pred_lora:\n",
        "        print(f\"Agreement: {label_names[pred_full].upper()}\")\n",
        "    else:\n",
        "        print(\"Disagreement!\")\n",
        "\n",
        "# Test examples\n",
        "examples = [\n",
        "    \"I'm so excited about this!\",\n",
        "    \"I feel really sad and alone\",\n",
        "    \"This makes me so angry!\"\n",
        "]\n",
        "\n",
        "print(\"Example predictions:\")\n",
        "for ex in examples:\n",
        "    predict_emotion(ex)\n",
        "\n",
        "\n"
      ],
      "metadata": {
        "id": "y9AWY8H3wwrW"
      },
      "execution_count": null,
      "outputs": []
    },
    {
      "cell_type": "markdown",
      "source": [
        "# More tests"
      ],
      "metadata": {
        "id": "rUZjPp4j1jpl"
      }
    },
    {
      "cell_type": "markdown",
      "source": [
        "## Longer texts"
      ],
      "metadata": {
        "id": "a8VTzwka2IcQ"
      }
    },
    {
      "cell_type": "code",
      "source": [
        "# Test examples\n",
        "longexamples = [\n",
        "    \"I have been waiting for this moment for months, and now it is finally here! I cannot contain my excitement—everything just seems so perfect right now. I feel like I am on top of the world, and nothing could ruin my mood. The energy in the air is electrifying, and I cannot wait to see what happens next!\",\n",
        "    \"Today, I had such a busy day at my internship. Work is piling up and I feel very anxious. Not to mention, there are so many upcoming examinations for school and I feel extremely unprepared. I have a vacation which I am really excited for and is looking forward to, however, it feels like the vacation is so far away. I am so close yet so far to the end of this semester. I feel like my health is declining. I will be really happy once I can catch a break.\",\n",
        "    \"Last night, as I was lying in bed, I started thinking about the upcoming presentation at work. The anxiety hit me like a wave, and I couldn’t shake the feeling that something would go horribly wrong. I started imagining all the worst-case scenarios: forgetting my lines, technical difficulties, or worst of all, having people laugh at my ideas. The more I thought about it, the more nervous I became. My heart started racing, my palms got sweaty, and it felt like I couldn’t breathe properly. Even though I tried to calm myself down, the fear kept growing. It’s not the first time I’ve felt this way before a big event, but it never gets easier. I kept telling myself that everything would be fine, but the fear still wouldn’t let go.\",\n",
        "    \"yesterday was one of those rare days where everything felt like they all fell into place. I woke up early and felt major gratitude for everything I have been blessed with. For the first time in a long while, I felt completely at peace.There was a lightness in the air, a sense of freedom that I haven’t felt in a long time. By the time I got home, I had this warm feeling in my chest, like everything was right in the world. I took in the world around me and it felt like nothing in this world can bring me down. I was present in the moment and took a deep breathe, taking time to savour and smell the roses and the fresh air around me. It felt like the sky was so clear, my skin was glowing, the weather was not too cold, not too humid\"\n",
        "]\n",
        "\n",
        "print(\"\\nTesting examples:\")\n",
        "for ex in longexamples:\n",
        "    predict_emotion(ex)\n"
      ],
      "metadata": {
        "id": "pYbD6k141jLK"
      },
      "execution_count": null,
      "outputs": []
    },
    {
      "cell_type": "markdown",
      "source": [
        "##  Texts with contradicting emotions"
      ],
      "metadata": {
        "id": "3XWKWLm32KrN"
      }
    },
    {
      "cell_type": "code",
      "source": [
        "contradictingexamples = [\n",
        "  \"Yesterday, I was overjoyed about my promotion at work, but my excitement quickly turned to frustration when I found out that I had to handle more responsibility without any additional support from the team\"\n",
        "  , \"When I opened the door yesterday, I was surprised to find a package I wasn’t expecting. But then, as I opened it, I started feeling anxious about what might be inside. what if it was something important I had missed?\",\n",
        "  \"I felt a deep sadness yesterday when I realized how much I miss my family. Even though I love them and they love me, the distance has created an aching feeling that I can’t seem to shake.\"\n",
        "\n",
        "  ]\n",
        "\n",
        "\n",
        "print(\"\\nTesting examples:\")\n",
        "for ex in contradictingexamples:\n",
        "    predict_emotion(ex)\n",
        "\n"
      ],
      "metadata": {
        "id": "mShjtrZ211O3"
      },
      "execution_count": null,
      "outputs": []
    },
    {
      "cell_type": "markdown",
      "source": [
        "##  Texts with irony"
      ],
      "metadata": {
        "id": "_WgAZHm42Op0"
      }
    },
    {
      "cell_type": "code",
      "source": [
        "ironicexamples = [\n",
        "  \"lol, it's okay, I wasn't planning on sleeping anyways. Who needs sleep when there are deadlines to meet?\",\n",
        "  \"I’m absolutely thrilled to handle this impossible task you just dropped on my lap\",\n",
        "  \"Oh great! another teams message I didn’t ask for. And right when I was planning to leave the office. Just what I needed to brighten my day.\"\n",
        "\n",
        "  ]\n",
        "\n",
        "\n",
        "print(\"\\nTesting examples:\")\n",
        "for ex in ironicexamples:\n",
        "    predict_emotion(ex)"
      ],
      "metadata": {
        "id": "okJhVPAW16rj"
      },
      "execution_count": null,
      "outputs": []
    },
    {
      "cell_type": "markdown",
      "source": [
        "##  Assigning emotions to DSM-5 Diagnosis Criterias"
      ],
      "metadata": {
        "id": "VItI-Q-M2P4s"
      }
    },
    {
      "cell_type": "code",
      "source": [
        "dsm5examples = [\n",
        "  \"Depressed mood most of the day, nearly every day; markedly diminished interest or pleasure in all or almost all activities; significant weight loss or weight gain; insomnia or excessive sleeping; fatigue or loss of energy; feelings of worthlessness or excessive guilt; diminished ability to think or concentrate, or indecisiveness; thoughts of death or suicide, or suicide attempts.\",\n",
        "  \"Excessive worry occurring more days than not for at least six months; difficulty controlling the worry; restlessness or feeling on edge; easily fatigued; difficulty concentrating or mind going blank; irritability; muscle tension; sleep disturbance.\",\n",
        "  \"Restricting food intake leading to significantly low body weight (Anorexia); recurrent episodes of binge eating followed by inappropriate compensatory behaviors (Bulimia); extreme concern about body image and weight; distorted perception of weight or body size.\",\n",
        "  \"Persistent pattern of inattention and/or hyperactivity-impulsivity that interferes with functioning or development; difficulty focusing on tasks, forgetfulness, impulsivity, restlessness, and a lack of organization.\"\n",
        "\n",
        "  ]\n",
        "\n",
        "\n",
        "print(\"\\nTesting examples:\")\n",
        "for ex in dsm5examples:\n",
        "    predict_emotion(ex)"
      ],
      "metadata": {
        "id": "MJzpN0V018JE"
      },
      "execution_count": null,
      "outputs": []
    },
    {
      "cell_type": "markdown",
      "source": [
        "# Interactive demo"
      ],
      "metadata": {
        "id": "YhFsZrmQ1oC3"
      }
    },
    {
      "cell_type": "markdown",
      "source": [
        "Type in sentence.\n",
        "\n",
        "Press enter to exit"
      ],
      "metadata": {
        "id": "aBmF7LTI2Tzo"
      }
    },
    {
      "cell_type": "code",
      "source": [
        "print(\"\\nYour turn! Type sentences to classify:\")\n",
        "while True:\n",
        "    text = input(\"\\nSentence: \").strip()\n",
        "    if not text:\n",
        "        break\n",
        "    predict_emotion(text)\n",
        "\n",
        "print(\"\\n\" + \"=\"*70)\n",
        "print(\"Demo complete!\")\n",
        "print(\"=\"*70)"
      ],
      "metadata": {
        "id": "YJl9bjBX1poI"
      },
      "execution_count": null,
      "outputs": []
    }
  ]
}