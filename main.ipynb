{
  "nbformat": 4,
  "nbformat_minor": 0,
  "metadata": {
    "colab": {
      "provenance": [],
      "gpuType": "T4"
    },
    "kernelspec": {
      "name": "python3",
      "display_name": "Python 3"
    },
    "language_info": {
      "name": "python"
    },
    "accelerator": "GPU",
    "widgets": {
      "application/vnd.jupyter.widget-state+json": {
        "a71af616af00468cba70348d02f29181": {
          "model_module": "@jupyter-widgets/controls",
          "model_name": "HBoxModel",
          "model_module_version": "1.5.0",
          "state": {
            "_dom_classes": [],
            "_model_module": "@jupyter-widgets/controls",
            "_model_module_version": "1.5.0",
            "_model_name": "HBoxModel",
            "_view_count": null,
            "_view_module": "@jupyter-widgets/controls",
            "_view_module_version": "1.5.0",
            "_view_name": "HBoxView",
            "box_style": "",
            "children": [
              "IPY_MODEL_e02912c239364389bd1db4158bbcccb2",
              "IPY_MODEL_61c0c937e49c4e93bf2cd54758f0cc08",
              "IPY_MODEL_321b31223a414e49becbebf34e92d346"
            ],
            "layout": "IPY_MODEL_5a48d81564d44dde9b39473d380af7ae"
          }
        },
        "e02912c239364389bd1db4158bbcccb2": {
          "model_module": "@jupyter-widgets/controls",
          "model_name": "HTMLModel",
          "model_module_version": "1.5.0",
          "state": {
            "_dom_classes": [],
            "_model_module": "@jupyter-widgets/controls",
            "_model_module_version": "1.5.0",
            "_model_name": "HTMLModel",
            "_view_count": null,
            "_view_module": "@jupyter-widgets/controls",
            "_view_module_version": "1.5.0",
            "_view_name": "HTMLView",
            "description": "",
            "description_tooltip": null,
            "layout": "IPY_MODEL_bbf0bcb3f2ee407fab4c56ac454c2c50",
            "placeholder": "​",
            "style": "IPY_MODEL_5c8d5013b95b47858f67f42ea82265e1",
            "value": "Map: 100%"
          }
        },
        "61c0c937e49c4e93bf2cd54758f0cc08": {
          "model_module": "@jupyter-widgets/controls",
          "model_name": "FloatProgressModel",
          "model_module_version": "1.5.0",
          "state": {
            "_dom_classes": [],
            "_model_module": "@jupyter-widgets/controls",
            "_model_module_version": "1.5.0",
            "_model_name": "FloatProgressModel",
            "_view_count": null,
            "_view_module": "@jupyter-widgets/controls",
            "_view_module_version": "1.5.0",
            "_view_name": "ProgressView",
            "bar_style": "success",
            "description": "",
            "description_tooltip": null,
            "layout": "IPY_MODEL_e00db4e3356c4af29d5a84e8c64e0360",
            "max": 2000,
            "min": 0,
            "orientation": "horizontal",
            "style": "IPY_MODEL_36fbb15471874f0282790ba4142d82b2",
            "value": 2000
          }
        },
        "321b31223a414e49becbebf34e92d346": {
          "model_module": "@jupyter-widgets/controls",
          "model_name": "HTMLModel",
          "model_module_version": "1.5.0",
          "state": {
            "_dom_classes": [],
            "_model_module": "@jupyter-widgets/controls",
            "_model_module_version": "1.5.0",
            "_model_name": "HTMLModel",
            "_view_count": null,
            "_view_module": "@jupyter-widgets/controls",
            "_view_module_version": "1.5.0",
            "_view_name": "HTMLView",
            "description": "",
            "description_tooltip": null,
            "layout": "IPY_MODEL_3d1dc9c418324aed931a971718ded450",
            "placeholder": "​",
            "style": "IPY_MODEL_784a04a3baa8436e96eb15739ba7fc60",
            "value": " 2000/2000 [00:00&lt;00:00, 3759.96 examples/s]"
          }
        },
        "5a48d81564d44dde9b39473d380af7ae": {
          "model_module": "@jupyter-widgets/base",
          "model_name": "LayoutModel",
          "model_module_version": "1.2.0",
          "state": {
            "_model_module": "@jupyter-widgets/base",
            "_model_module_version": "1.2.0",
            "_model_name": "LayoutModel",
            "_view_count": null,
            "_view_module": "@jupyter-widgets/base",
            "_view_module_version": "1.2.0",
            "_view_name": "LayoutView",
            "align_content": null,
            "align_items": null,
            "align_self": null,
            "border": null,
            "bottom": null,
            "display": null,
            "flex": null,
            "flex_flow": null,
            "grid_area": null,
            "grid_auto_columns": null,
            "grid_auto_flow": null,
            "grid_auto_rows": null,
            "grid_column": null,
            "grid_gap": null,
            "grid_row": null,
            "grid_template_areas": null,
            "grid_template_columns": null,
            "grid_template_rows": null,
            "height": null,
            "justify_content": null,
            "justify_items": null,
            "left": null,
            "margin": null,
            "max_height": null,
            "max_width": null,
            "min_height": null,
            "min_width": null,
            "object_fit": null,
            "object_position": null,
            "order": null,
            "overflow": null,
            "overflow_x": null,
            "overflow_y": null,
            "padding": null,
            "right": null,
            "top": null,
            "visibility": null,
            "width": null
          }
        },
        "bbf0bcb3f2ee407fab4c56ac454c2c50": {
          "model_module": "@jupyter-widgets/base",
          "model_name": "LayoutModel",
          "model_module_version": "1.2.0",
          "state": {
            "_model_module": "@jupyter-widgets/base",
            "_model_module_version": "1.2.0",
            "_model_name": "LayoutModel",
            "_view_count": null,
            "_view_module": "@jupyter-widgets/base",
            "_view_module_version": "1.2.0",
            "_view_name": "LayoutView",
            "align_content": null,
            "align_items": null,
            "align_self": null,
            "border": null,
            "bottom": null,
            "display": null,
            "flex": null,
            "flex_flow": null,
            "grid_area": null,
            "grid_auto_columns": null,
            "grid_auto_flow": null,
            "grid_auto_rows": null,
            "grid_column": null,
            "grid_gap": null,
            "grid_row": null,
            "grid_template_areas": null,
            "grid_template_columns": null,
            "grid_template_rows": null,
            "height": null,
            "justify_content": null,
            "justify_items": null,
            "left": null,
            "margin": null,
            "max_height": null,
            "max_width": null,
            "min_height": null,
            "min_width": null,
            "object_fit": null,
            "object_position": null,
            "order": null,
            "overflow": null,
            "overflow_x": null,
            "overflow_y": null,
            "padding": null,
            "right": null,
            "top": null,
            "visibility": null,
            "width": null
          }
        },
        "5c8d5013b95b47858f67f42ea82265e1": {
          "model_module": "@jupyter-widgets/controls",
          "model_name": "DescriptionStyleModel",
          "model_module_version": "1.5.0",
          "state": {
            "_model_module": "@jupyter-widgets/controls",
            "_model_module_version": "1.5.0",
            "_model_name": "DescriptionStyleModel",
            "_view_count": null,
            "_view_module": "@jupyter-widgets/base",
            "_view_module_version": "1.2.0",
            "_view_name": "StyleView",
            "description_width": ""
          }
        },
        "e00db4e3356c4af29d5a84e8c64e0360": {
          "model_module": "@jupyter-widgets/base",
          "model_name": "LayoutModel",
          "model_module_version": "1.2.0",
          "state": {
            "_model_module": "@jupyter-widgets/base",
            "_model_module_version": "1.2.0",
            "_model_name": "LayoutModel",
            "_view_count": null,
            "_view_module": "@jupyter-widgets/base",
            "_view_module_version": "1.2.0",
            "_view_name": "LayoutView",
            "align_content": null,
            "align_items": null,
            "align_self": null,
            "border": null,
            "bottom": null,
            "display": null,
            "flex": null,
            "flex_flow": null,
            "grid_area": null,
            "grid_auto_columns": null,
            "grid_auto_flow": null,
            "grid_auto_rows": null,
            "grid_column": null,
            "grid_gap": null,
            "grid_row": null,
            "grid_template_areas": null,
            "grid_template_columns": null,
            "grid_template_rows": null,
            "height": null,
            "justify_content": null,
            "justify_items": null,
            "left": null,
            "margin": null,
            "max_height": null,
            "max_width": null,
            "min_height": null,
            "min_width": null,
            "object_fit": null,
            "object_position": null,
            "order": null,
            "overflow": null,
            "overflow_x": null,
            "overflow_y": null,
            "padding": null,
            "right": null,
            "top": null,
            "visibility": null,
            "width": null
          }
        },
        "36fbb15471874f0282790ba4142d82b2": {
          "model_module": "@jupyter-widgets/controls",
          "model_name": "ProgressStyleModel",
          "model_module_version": "1.5.0",
          "state": {
            "_model_module": "@jupyter-widgets/controls",
            "_model_module_version": "1.5.0",
            "_model_name": "ProgressStyleModel",
            "_view_count": null,
            "_view_module": "@jupyter-widgets/base",
            "_view_module_version": "1.2.0",
            "_view_name": "StyleView",
            "bar_color": null,
            "description_width": ""
          }
        },
        "3d1dc9c418324aed931a971718ded450": {
          "model_module": "@jupyter-widgets/base",
          "model_name": "LayoutModel",
          "model_module_version": "1.2.0",
          "state": {
            "_model_module": "@jupyter-widgets/base",
            "_model_module_version": "1.2.0",
            "_model_name": "LayoutModel",
            "_view_count": null,
            "_view_module": "@jupyter-widgets/base",
            "_view_module_version": "1.2.0",
            "_view_name": "LayoutView",
            "align_content": null,
            "align_items": null,
            "align_self": null,
            "border": null,
            "bottom": null,
            "display": null,
            "flex": null,
            "flex_flow": null,
            "grid_area": null,
            "grid_auto_columns": null,
            "grid_auto_flow": null,
            "grid_auto_rows": null,
            "grid_column": null,
            "grid_gap": null,
            "grid_row": null,
            "grid_template_areas": null,
            "grid_template_columns": null,
            "grid_template_rows": null,
            "height": null,
            "justify_content": null,
            "justify_items": null,
            "left": null,
            "margin": null,
            "max_height": null,
            "max_width": null,
            "min_height": null,
            "min_width": null,
            "object_fit": null,
            "object_position": null,
            "order": null,
            "overflow": null,
            "overflow_x": null,
            "overflow_y": null,
            "padding": null,
            "right": null,
            "top": null,
            "visibility": null,
            "width": null
          }
        },
        "784a04a3baa8436e96eb15739ba7fc60": {
          "model_module": "@jupyter-widgets/controls",
          "model_name": "DescriptionStyleModel",
          "model_module_version": "1.5.0",
          "state": {
            "_model_module": "@jupyter-widgets/controls",
            "_model_module_version": "1.5.0",
            "_model_name": "DescriptionStyleModel",
            "_view_count": null,
            "_view_module": "@jupyter-widgets/base",
            "_view_module_version": "1.2.0",
            "_view_name": "StyleView",
            "description_width": ""
          }
        }
      }
    }
  },
  "cells": [
    {
      "cell_type": "code",
      "source": [
        "\n",
        "import torch\n",
        "import json\n",
        "from transformers import AutoTokenizer, AutoModelForSequenceClassification\n",
        "from peft import PeftModel\n",
        "from datasets import load_dataset\n",
        "import numpy as np\n",
        "from sklearn.metrics import classification_report, confusion_matrix\n",
        "import matplotlib.pyplot as plt\n",
        "import seaborn as sns\n",
        "from google.colab import drive\n",
        "import os\n",
        "import torch\n",
        "from transformers import AutoTokenizer, AutoModelForSequenceClassification\n",
        "from peft import PeftModel\n",
        "\n",
        "import os"
      ],
      "metadata": {
        "id": "FZaCpE-x9Fn9"
      },
      "execution_count": 21,
      "outputs": []
    },
    {
      "cell_type": "code",
      "source": [
        "# Mount Google Drive\n",
        "drive.mount('/content/drive')"
      ],
      "metadata": {
        "id": "ZLv0IURZ27kv",
        "outputId": "af0dafb1-2d9c-4050-f9fc-6acc49358610",
        "colab": {
          "base_uri": "https://localhost:8080/"
        }
      },
      "execution_count": 22,
      "outputs": [
        {
          "output_type": "stream",
          "name": "stdout",
          "text": [
            "Drive already mounted at /content/drive; to attempt to forcibly remount, call drive.mount(\"/content/drive\", force_remount=True).\n"
          ]
        }
      ]
    },
    {
      "cell_type": "code",
      "source": [
        "# Define model paths (update these to your specific folder structure on Google Drive)\n",
        "model_full_path = '/content/drive/MyDrive/model_full_finetuned'\n",
        "model_lora_path = '/content/drive/MyDrive/model_lora_adapter'\n",
        "\n",
        "# Check if models exist in the mounted Google Drive\n",
        "if not os.path.exists(model_full_path):\n",
        "    print(\"\\\\nERROR: ./model_full_finetuned/ not found!\")\n",
        "    print(\"Please download from: https://drive.google.com/drive/folders/1exOmAGt4iIYT3tBniyPrJHAzLbUnJLKy\")\n",
        "    exit(1)\n",
        "\n",
        "if not os.path.exists(model_lora_path):\n",
        "    print(\"\\\\nERROR: ./model_lora_adapter/ not found!\")\n",
        "    print(\"Please download from: https://drive.google.com/drive/folders/1G0PzrUMzjJ4ZNlyt_h_4X5t6X8fY0BK-\")\n",
        "    exit(1)\n"
      ],
      "metadata": {
        "id": "IM_WTcYtDNT-"
      },
      "execution_count": 23,
      "outputs": []
    },
    {
      "cell_type": "code",
      "source": [
        "# Setup\n",
        "if torch.cuda.is_available():\n",
        "    device = torch.device(\"cuda\")\n",
        "elif torch.backends.mps.is_available():\n",
        "    device = torch.device(\"mps\")  # Apple Silicon\n",
        "else:\n",
        "    device = torch.device(\"cpu\")\n",
        "\n",
        "print(f\"Using device: {device}\")\n",
        "\n",
        "label_names = ['sadness', 'joy', 'love', 'anger', 'fear', 'surprise']\n",
        "\n",
        "# Load tokenizer\n",
        "print(\"\\\\nLoading tokenizer...\")\n",
        "tokenizer = AutoTokenizer.from_pretrained(\"distilbert-base-uncased\")\n",
        "\n",
        "# Load models\n",
        "print(\"Loading Full Fine-tuned model...\")\n",
        "model_full = AutoModelForSequenceClassification.from_pretrained(\n",
        "    model_full_path, num_labels=6\n",
        ").to(device)\n",
        "\n",
        "print(\"Loading LoRA adapter...\")\n",
        "base_model = AutoModelForSequenceClassification.from_pretrained(\n",
        "    \"distilbert-base-uncased\", num_labels=6\n",
        ").to(device)\n",
        "model_lora = PeftModel.from_pretrained(base_model, model_lora_path)\n",
        "\n",
        "print(\"\\\\nModels loaded successfully!\")"
      ],
      "metadata": {
        "id": "sSXy1bEVDDM6",
        "outputId": "4e49f56e-3dbb-42f0-c016-074f4352e1b0",
        "colab": {
          "base_uri": "https://localhost:8080/"
        }
      },
      "execution_count": 24,
      "outputs": [
        {
          "output_type": "stream",
          "name": "stdout",
          "text": [
            "Using device: cuda\n",
            "\\nLoading tokenizer...\n",
            "Loading Full Fine-tuned model...\n",
            "Loading LoRA adapter...\n"
          ]
        },
        {
          "output_type": "stream",
          "name": "stderr",
          "text": [
            "Some weights of DistilBertForSequenceClassification were not initialized from the model checkpoint at distilbert-base-uncased and are newly initialized: ['classifier.bias', 'classifier.weight', 'pre_classifier.bias', 'pre_classifier.weight']\n",
            "You should probably TRAIN this model on a down-stream task to be able to use it for predictions and inference.\n"
          ]
        },
        {
          "output_type": "stream",
          "name": "stdout",
          "text": [
            "\\nModels loaded successfully!\n"
          ]
        }
      ]
    },
    {
      "cell_type": "code",
      "source": [
        "\n",
        "\n",
        "# Load test data\n",
        "print(\"\\\\nLoading test dataset...\")\n",
        "dataset = load_dataset(\"emotion\")\n",
        "\n",
        "def tokenize_function(examples):\n",
        "    return tokenizer(examples[\"text\"], padding=\"max_length\",\n",
        "                    truncation=True, max_length=128)\n",
        "\n",
        "tokenized_datasets = dataset.map(tokenize_function, batched=True)\n",
        "val_test = tokenized_datasets['validation'].train_test_split(test_size=0.5, seed=42)\n",
        "test_dataset = val_test['test']\n",
        "\n",
        "print(f\"Test examples: {len(test_dataset)}\")\n",
        "\n",
        "# Evaluate function\n",
        "def evaluate_model(model, dataset, model_name):\n",
        "    model.eval()\n",
        "    predictions = []\n",
        "    true_labels = dataset['label']\n",
        "\n",
        "    print(f\"\\\\nEvaluating {model_name}...\")\n",
        "    for i in range(len(dataset)):\n",
        "        inputs = tokenizer(dataset[i]['text'], return_tensors=\"pt\",\n",
        "                          truncation=True, max_length=128, padding=True)\n",
        "        inputs = {k: v.to(device) for k, v in inputs.items()}\n",
        "\n",
        "        with torch.no_grad():\n",
        "            outputs = model(**inputs)\n",
        "            pred = torch.argmax(outputs.logits, dim=-1).item()\n",
        "            predictions.append(pred)\n",
        "\n",
        "    # Calculate metrics\n",
        "    accuracy = sum(p == t for p, t in zip(predictions, true_labels)) / len(true_labels)\n",
        "\n",
        "    print(f\"  Accuracy: {accuracy:.4f}\")\n",
        "\n",
        "    return predictions, true_labels\n",
        "\n",
        "# Evaluate both models\n",
        "preds_full, true_labels = evaluate_model(model_full, test_dataset, \"Full Fine-tuning\")\n",
        "preds_lora, _ = evaluate_model(model_lora, test_dataset, \"LoRA\")\n",
        "\n",
        "# Generate confusion matrices\n",
        "print(\"\\\\nGenerating visualizations...\")\n",
        "cm_full = confusion_matrix(true_labels, preds_full)\n",
        "cm_lora = confusion_matrix(true_labels, preds_lora)\n",
        "\n",
        "fig, axes = plt.subplots(1, 2, figsize=(14, 5))\n",
        "\n",
        "sns.heatmap(cm_full, annot=True, fmt='d', cmap='Blues',\n",
        "            xticklabels=label_names, yticklabels=label_names, ax=axes[0])\n",
        "axes[0].set_title('Full Fine-tuning')\n",
        "axes[0].set_ylabel('True Label')\n",
        "axes[0].set_xlabel('Predicted Label')\n",
        "\n",
        "sns.heatmap(cm_lora, annot=True, fmt='d', cmap='Greens',\n",
        "            xticklabels=label_names, yticklabels=label_names, ax=axes[1])\n",
        "axes[1].set_title('LoRA')\n",
        "axes[1].set_ylabel('True Label')\n",
        "axes[1].set_xlabel('Predicted Label')\n",
        "\n",
        "plt.tight_layout()\n",
        "plt.savefig('confusion_matrices_reproduced.png', dpi=300)\n",
        "print(\"Saved: confusion_matrices_reproduced.png\")\n",
        "\n",
        "# Classification reports\n",
        "print(\"\\\\n\" + \"=\"*70)\n",
        "print(\"Full Fine-tuning Classification Report:\")\n",
        "print(\"=\"*70)\n",
        "print(classification_report(true_labels, preds_full, target_names=label_names))\n",
        "\n",
        "print(\"\\\\n\" + \"=\"*70)\n",
        "print(\"LoRA Classification Report:\")\n",
        "print(\"=\"*70)\n",
        "print(classification_report(true_labels, preds_lora, target_names=label_names))\n",
        "\n",
        "\n",
        "# Interactive demo\n",
        "print(\"\\n\" + \"=\"*70)\n",
        "print(\"Interactive Demo - Test Your Own Sentences!\")\n",
        "print(\"=\"*70)\n",
        "print(\"(Press Enter without text to exit)\\n\")\n",
        "\n",
        "def predict_emotion(text):\n",
        "    inputs = tokenizer(text, return_tensors=\"pt\", truncation=True,\n",
        "                      max_length=128, padding=True)\n",
        "    inputs = {k: v.to(device) for k, v in inputs.items()}\n",
        "\n",
        "    # Full FT\n",
        "    model_full.eval()\n",
        "    with torch.no_grad():\n",
        "        outputs_full = model_full(**inputs)\n",
        "        probs_full = torch.nn.functional.softmax(outputs_full.logits, dim=-1)[0]\n",
        "        pred_full = torch.argmax(probs_full).item()\n",
        "\n",
        "    # LoRA\n",
        "    model_lora.eval()\n",
        "    with torch.no_grad():\n",
        "        outputs_lora = model_lora(**inputs)\n",
        "        probs_lora = torch.nn.functional.softmax(outputs_lora.logits, dim=-1)[0]\n",
        "        pred_lora = torch.argmax(probs_lora).item()\n",
        "\n",
        "    print(f\"\\nText: \\\"{text}\\\"\")\n",
        "    print(f\"Full FT: {label_names[pred_full].upper()} ({probs_full[pred_full]*100:.1f}%)\")\n",
        "    print(f\"LoRA:    {label_names[pred_lora].upper()} ({probs_lora[pred_lora]*100:.1f}%)\")\n",
        "    if pred_full == pred_lora:\n",
        "        print(f\"Agreement: {label_names[pred_full].upper()}\")\n",
        "    else:\n",
        "        print(\"Disagreement!\")\n",
        "\n",
        "# Test examples\n",
        "examples = [\n",
        "    \"I'm so excited about this!\",\n",
        "    \"I feel really sad and alone\",\n",
        "    \"This makes me so angry!\"\n",
        "]\n",
        "\n",
        "print(\"Example predictions:\")\n",
        "for ex in examples:\n",
        "    predict_emotion(ex)\n",
        "\n",
        "\n"
      ],
      "metadata": {
        "id": "y9AWY8H3wwrW",
        "outputId": "b9ff9c5c-43fd-435e-e8a2-281a5b20944e",
        "colab": {
          "base_uri": "https://localhost:8080/",
          "height": 1000,
          "referenced_widgets": [
            "a71af616af00468cba70348d02f29181",
            "e02912c239364389bd1db4158bbcccb2",
            "61c0c937e49c4e93bf2cd54758f0cc08",
            "321b31223a414e49becbebf34e92d346",
            "5a48d81564d44dde9b39473d380af7ae",
            "bbf0bcb3f2ee407fab4c56ac454c2c50",
            "5c8d5013b95b47858f67f42ea82265e1",
            "e00db4e3356c4af29d5a84e8c64e0360",
            "36fbb15471874f0282790ba4142d82b2",
            "3d1dc9c418324aed931a971718ded450",
            "784a04a3baa8436e96eb15739ba7fc60"
          ]
        }
      },
      "execution_count": 25,
      "outputs": [
        {
          "output_type": "stream",
          "name": "stdout",
          "text": [
            "\\nLoading test dataset...\n"
          ]
        },
        {
          "output_type": "display_data",
          "data": {
            "text/plain": [
              "Map:   0%|          | 0/2000 [00:00<?, ? examples/s]"
            ],
            "application/vnd.jupyter.widget-view+json": {
              "version_major": 2,
              "version_minor": 0,
              "model_id": "a71af616af00468cba70348d02f29181"
            }
          },
          "metadata": {}
        },
        {
          "output_type": "stream",
          "name": "stdout",
          "text": [
            "Test examples: 1000\n",
            "\\nEvaluating Full Fine-tuning...\n",
            "  Accuracy: 0.9400\n",
            "\\nEvaluating LoRA...\n",
            "  Accuracy: 0.9350\n",
            "\\nGenerating visualizations...\n",
            "Saved: confusion_matrices_reproduced.png\n",
            "\\n======================================================================\n",
            "Full Fine-tuning Classification Report:\n",
            "======================================================================\n",
            "              precision    recall  f1-score   support\n",
            "\n",
            "     sadness       0.95      0.98      0.96       255\n",
            "         joy       0.96      0.95      0.96       367\n",
            "        love       0.87      0.87      0.87        91\n",
            "       anger       0.98      0.93      0.95       136\n",
            "        fear       0.90      0.93      0.91       109\n",
            "    surprise       0.85      0.81      0.83        42\n",
            "\n",
            "    accuracy                           0.94      1000\n",
            "   macro avg       0.92      0.91      0.91      1000\n",
            "weighted avg       0.94      0.94      0.94      1000\n",
            "\n",
            "\\n======================================================================\n",
            "LoRA Classification Report:\n",
            "======================================================================\n",
            "              precision    recall  f1-score   support\n",
            "\n",
            "     sadness       0.94      0.97      0.96       255\n",
            "         joy       0.96      0.95      0.96       367\n",
            "        love       0.85      0.88      0.86        91\n",
            "       anger       0.95      0.93      0.94       136\n",
            "        fear       0.88      0.90      0.89       109\n",
            "    surprise       0.94      0.79      0.86        42\n",
            "\n",
            "    accuracy                           0.94      1000\n",
            "   macro avg       0.92      0.90      0.91      1000\n",
            "weighted avg       0.94      0.94      0.93      1000\n",
            "\n",
            "\n",
            "======================================================================\n",
            "Interactive Demo - Test Your Own Sentences!\n",
            "======================================================================\n",
            "(Press Enter without text to exit)\n",
            "\n",
            "Example predictions:\n",
            "\n",
            "Text: \"I'm so excited about this!\"\n",
            "Full FT: JOY (99.8%)\n",
            "LoRA:    JOY (99.8%)\n",
            "Agreement: JOY\n",
            "\n",
            "Text: \"I feel really sad and alone\"\n",
            "Full FT: SADNESS (99.9%)\n",
            "LoRA:    SADNESS (100.0%)\n",
            "Agreement: SADNESS\n",
            "\n",
            "Text: \"This makes me so angry!\"\n",
            "Full FT: ANGER (99.8%)\n",
            "LoRA:    ANGER (100.0%)\n",
            "Agreement: ANGER\n"
          ]
        },
        {
          "output_type": "display_data",
          "data": {
            "text/plain": [
              "<Figure size 1400x500 with 4 Axes>"
            ],
            "image/png": "[encoded data removed]"
          },
          "metadata": {}
        }
      ]
    },
    {
      "cell_type": "markdown",
      "source": [
        "# More tests"
      ],
      "metadata": {
        "id": "rUZjPp4j1jpl"
      }
    },
    {
      "cell_type": "markdown",
      "source": [
        "## Longer texts"
      ],
      "metadata": {
        "id": "a8VTzwka2IcQ"
      }
    },
    {
      "cell_type": "code",
      "source": [
        "# Test examples\n",
        "longexamples = [\n",
        "    \"I have been waiting for this moment for months, and now it is finally here! I cannot contain my excitement—everything just seems so perfect right now. I feel like I am on top of the world, and nothing could ruin my mood. The energy in the air is electrifying, and I cannot wait to see what happens next!\",\n",
        "    \"Today, I had such a busy day at my internship. Work is piling up and I feel very anxious. Not to mention, there are so many upcoming examinations for school and I feel extremely unprepared. I have a vacation which I am really excited for and is looking forward to, however, it feels like the vacation is so far away. I am so close yet so far to the end of this semester. I feel like my health is declining. I will be really happy once I can catch a break.\",\n",
        "    \"Last night, as I was lying in bed, I started thinking about the upcoming presentation at work. The anxiety hit me like a wave, and I couldn’t shake the feeling that something would go horribly wrong. I started imagining all the worst-case scenarios: forgetting my lines, technical difficulties, or worst of all, having people laugh at my ideas. The more I thought about it, the more nervous I became. My heart started racing, my palms got sweaty, and it felt like I couldn’t breathe properly. Even though I tried to calm myself down, the fear kept growing. It’s not the first time I’ve felt this way before a big event, but it never gets easier. I kept telling myself that everything would be fine, but the fear still wouldn’t let go.\",\n",
        "    \"yesterday was one of those rare days where everything felt like they all fell into place. I woke up early and felt major gratitude for everything I have been blessed with. For the first time in a long while, I felt completely at peace.There was a lightness in the air, a sense of freedom that I haven’t felt in a long time. By the time I got home, I had this warm feeling in my chest, like everything was right in the world. I took in the world around me and it felt like nothing in this world can bring me down. I was present in the moment and took a deep breathe, taking time to savour and smell the roses and the fresh air around me. It felt like the sky was so clear, my skin was glowing, the weather was not too cold, not too humid\"\n",
        "]\n",
        "\n",
        "print(\"\\nTesting examples:\")\n",
        "for ex in longexamples:\n",
        "    predict_emotion(ex)\n"
      ],
      "metadata": {
        "id": "pYbD6k141jLK",
        "outputId": "4f51e48e-a1ef-433c-f480-aa23bc11387b",
        "colab": {
          "base_uri": "https://localhost:8080/"
        }
      },
      "execution_count": 26,
      "outputs": [
        {
          "output_type": "stream",
          "name": "stdout",
          "text": [
            "\n",
            "Testing examples:\n",
            "\n",
            "Text: \"I have been waiting for this moment for months, and now it is finally here! I cannot contain my excitement—everything just seems so perfect right now. I feel like I am on top of the world, and nothing could ruin my mood. The energy in the air is electrifying, and I cannot wait to see what happens next!\"\n",
            "Full FT: JOY (99.9%)\n",
            "LoRA:    JOY (99.4%)\n",
            "Agreement: JOY\n",
            "\n",
            "Text: \"Today, I had such a busy day at my internship. Work is piling up and I feel very anxious. Not to mention, there are so many upcoming examinations for school and I feel extremely unprepared. I have a vacation which I am really excited for and is looking forward to, however, it feels like the vacation is so far away. I am so close yet so far to the end of this semester. I feel like my health is declining. I will be really happy once I can catch a break.\"\n",
            "Full FT: FEAR (99.8%)\n",
            "LoRA:    FEAR (98.9%)\n",
            "Agreement: FEAR\n",
            "\n",
            "Text: \"Last night, as I was lying in bed, I started thinking about the upcoming presentation at work. The anxiety hit me like a wave, and I couldn’t shake the feeling that something would go horribly wrong. I started imagining all the worst-case scenarios: forgetting my lines, technical difficulties, or worst of all, having people laugh at my ideas. The more I thought about it, the more nervous I became. My heart started racing, my palms got sweaty, and it felt like I couldn’t breathe properly. Even though I tried to calm myself down, the fear kept growing. It’s not the first time I’ve felt this way before a big event, but it never gets easier. I kept telling myself that everything would be fine, but the fear still wouldn’t let go.\"\n",
            "Full FT: SADNESS (52.7%)\n",
            "LoRA:    FEAR (96.5%)\n",
            "Disagreement!\n",
            "\n",
            "Text: \"yesterday was one of those rare days where everything felt like they all fell into place. I woke up early and felt major gratitude for everything I have been blessed with. For the first time in a long while, I felt completely at peace.There was a lightness in the air, a sense of freedom that I haven’t felt in a long time. By the time I got home, I had this warm feeling in my chest, like everything was right in the world. I took in the world around me and it felt like nothing in this world can bring me down. I was present in the moment and took a deep breathe, taking time to savour and smell the roses and the fresh air around me. It felt like the sky was so clear, my skin was glowing, the weather was not too cold, not too humid\"\n",
            "Full FT: LOVE (71.1%)\n",
            "LoRA:    JOY (78.2%)\n",
            "Disagreement!\n"
          ]
        }
      ]
    },
    {
      "cell_type": "markdown",
      "source": [
        "##  Texts with contradicting emotions"
      ],
      "metadata": {
        "id": "3XWKWLm32KrN"
      }
    },
    {
      "cell_type": "code",
      "source": [
        "contradictingexamples = [\n",
        "  \"Yesterday, I was overjoyed about my promotion at work, but my excitement quickly turned to frustration when I found out that I had to handle more responsibility without any additional support from the team\"\n",
        "  , \"When I opened the door yesterday, I was surprised to find a package I wasn’t expecting. But then, as I opened it, I started feeling anxious about what might be inside. what if it was something important I had missed?\",\n",
        "  \"I felt a deep sadness yesterday when I realized how much I miss my family. Even though I love them and they love me, the distance has created an aching feeling that I can’t seem to shake.\"\n",
        "\n",
        "  ]\n",
        "\n",
        "\n",
        "print(\"\\nTesting examples:\")\n",
        "for ex in contradictingexamples:\n",
        "    predict_emotion(ex)\n",
        "\n"
      ],
      "metadata": {
        "id": "mShjtrZ211O3",
        "outputId": "83fb2772-70e7-470a-a3b8-3568234d4104",
        "colab": {
          "base_uri": "https://localhost:8080/"
        }
      },
      "execution_count": 27,
      "outputs": [
        {
          "output_type": "stream",
          "name": "stdout",
          "text": [
            "\n",
            "Testing examples:\n",
            "\n",
            "Text: \"Yesterday, I was overjoyed about my promotion at work, but my excitement quickly turned to frustration when I found out that I had to handle more responsibility without any additional support from the team\"\n",
            "Full FT: JOY (99.6%)\n",
            "LoRA:    JOY (94.2%)\n",
            "Agreement: JOY\n",
            "\n",
            "Text: \"When I opened the door yesterday, I was surprised to find a package I wasn’t expecting. But then, as I opened it, I started feeling anxious about what might be inside. what if it was something important I had missed?\"\n",
            "Full FT: FEAR (99.8%)\n",
            "LoRA:    FEAR (97.9%)\n",
            "Agreement: FEAR\n",
            "\n",
            "Text: \"I felt a deep sadness yesterday when I realized how much I miss my family. Even though I love them and they love me, the distance has created an aching feeling that I can’t seem to shake.\"\n",
            "Full FT: SADNESS (99.9%)\n",
            "LoRA:    SADNESS (95.2%)\n",
            "Agreement: SADNESS\n"
          ]
        }
      ]
    },
    {
      "cell_type": "markdown",
      "source": [
        "##  Texts with irony"
      ],
      "metadata": {
        "id": "_WgAZHm42Op0"
      }
    },
    {
      "cell_type": "code",
      "source": [
        "ironicexamples = [\n",
        "  \"lol, it's okay, I wasn't planning on sleeping anyways. Who needs sleep when there are deadlines to meet?\",\n",
        "  \"I’m absolutely thrilled to handle this impossible task you just dropped on my lap\",\n",
        "  \"Oh great! another teams message I didn’t ask for. And right when I was planning to leave the office. Just what I needed to brighten my day.\"\n",
        "\n",
        "  ]\n",
        "\n",
        "\n",
        "print(\"\\nTesting examples:\")\n",
        "for ex in ironicexamples:\n",
        "    predict_emotion(ex)"
      ],
      "metadata": {
        "id": "okJhVPAW16rj",
        "outputId": "06231d1c-05f4-4455-a456-d1adc150aa36",
        "colab": {
          "base_uri": "https://localhost:8080/"
        }
      },
      "execution_count": 28,
      "outputs": [
        {
          "output_type": "stream",
          "name": "stdout",
          "text": [
            "\n",
            "Testing examples:\n",
            "\n",
            "Text: \"lol, it's okay, I wasn't planning on sleeping anyways. Who needs sleep when there are deadlines to meet?\"\n",
            "Full FT: JOY (62.7%)\n",
            "LoRA:    JOY (42.7%)\n",
            "Agreement: JOY\n",
            "\n",
            "Text: \"I’m absolutely thrilled to handle this impossible task you just dropped on my lap\"\n",
            "Full FT: JOY (99.9%)\n",
            "LoRA:    JOY (99.6%)\n",
            "Agreement: JOY\n",
            "\n",
            "Text: \"Oh great! another teams message I didn’t ask for. And right when I was planning to leave the office. Just what I needed to brighten my day.\"\n",
            "Full FT: JOY (98.5%)\n",
            "LoRA:    JOY (97.5%)\n",
            "Agreement: JOY\n"
          ]
        }
      ]
    },
    {
      "cell_type": "markdown",
      "source": [
        "##  Assigning emotions to DSM-5 Diagnosis Criterias"
      ],
      "metadata": {
        "id": "VItI-Q-M2P4s"
      }
    },
    {
      "cell_type": "code",
      "source": [
        "dsm5examples = [\n",
        "  \"Depressed mood most of the day, nearly every day; markedly diminished interest or pleasure in all or almost all activities; significant weight loss or weight gain; insomnia or excessive sleeping; fatigue or loss of energy; feelings of worthlessness or excessive guilt; diminished ability to think or concentrate, or indecisiveness; thoughts of death or suicide, or suicide attempts.\",\n",
        "  \"Excessive worry occurring more days than not for at least six months; difficulty controlling the worry; restlessness or feeling on edge; easily fatigued; difficulty concentrating or mind going blank; irritability; muscle tension; sleep disturbance.\",\n",
        "  \"Restricting food intake leading to significantly low body weight (Anorexia); recurrent episodes of binge eating followed by inappropriate compensatory behaviors (Bulimia); extreme concern about body image and weight; distorted perception of weight or body size.\",\n",
        "  \"Persistent pattern of inattention and/or hyperactivity-impulsivity that interferes with functioning or development; difficulty focusing on tasks, forgetfulness, impulsivity, restlessness, and a lack of organization.\"\n",
        "\n",
        "  ]\n",
        "\n",
        "\n",
        "print(\"\\nTesting examples:\")\n",
        "for ex in dsm5examples:\n",
        "    predict_emotion(ex)"
      ],
      "metadata": {
        "id": "MJzpN0V018JE",
        "outputId": "24d77228-618e-4f03-b46c-2e64f630b8dd",
        "colab": {
          "base_uri": "https://localhost:8080/"
        }
      },
      "execution_count": 29,
      "outputs": [
        {
          "output_type": "stream",
          "name": "stdout",
          "text": [
            "\n",
            "Testing examples:\n",
            "\n",
            "Text: \"Depressed mood most of the day, nearly every day; markedly diminished interest or pleasure in all or almost all activities; significant weight loss or weight gain; insomnia or excessive sleeping; fatigue or loss of energy; feelings of worthlessness or excessive guilt; diminished ability to think or concentrate, or indecisiveness; thoughts of death or suicide, or suicide attempts.\"\n",
            "Full FT: SADNESS (99.9%)\n",
            "LoRA:    SADNESS (99.9%)\n",
            "Agreement: SADNESS\n",
            "\n",
            "Text: \"Excessive worry occurring more days than not for at least six months; difficulty controlling the worry; restlessness or feeling on edge; easily fatigued; difficulty concentrating or mind going blank; irritability; muscle tension; sleep disturbance.\"\n",
            "Full FT: SADNESS (92.9%)\n",
            "LoRA:    FEAR (84.2%)\n",
            "Disagreement!\n",
            "\n",
            "Text: \"Restricting food intake leading to significantly low body weight (Anorexia); recurrent episodes of binge eating followed by inappropriate compensatory behaviors (Bulimia); extreme concern about body image and weight; distorted perception of weight or body size.\"\n",
            "Full FT: SADNESS (53.0%)\n",
            "LoRA:    SADNESS (95.6%)\n",
            "Agreement: SADNESS\n",
            "\n",
            "Text: \"Persistent pattern of inattention and/or hyperactivity-impulsivity that interferes with functioning or development; difficulty focusing on tasks, forgetfulness, impulsivity, restlessness, and a lack of organization.\"\n",
            "Full FT: FEAR (95.5%)\n",
            "LoRA:    FEAR (83.6%)\n",
            "Agreement: FEAR\n"
          ]
        }
      ]
    },
    {
      "cell_type": "markdown",
      "source": [
        "# Interactive demo"
      ],
      "metadata": {
        "id": "YhFsZrmQ1oC3"
      }
    },
    {
      "cell_type": "markdown",
      "source": [
        "Type in sentence.\n",
        "\n",
        "Press enter to exit"
      ],
      "metadata": {
        "id": "aBmF7LTI2Tzo"
      }
    },
    {
      "cell_type": "code",
      "source": [
        "print(\"\\nYour turn! Type sentences to classify:\")\n",
        "while True:\n",
        "    text = input(\"\\nSentence: \").strip()\n",
        "    if not text:\n",
        "        break\n",
        "    predict_emotion(text)\n",
        "\n",
        "print(\"\\n\" + \"=\"*70)\n",
        "print(\"Demo complete!\")\n",
        "print(\"=\"*70)"
      ],
      "metadata": {
        "id": "YJl9bjBX1poI",
        "outputId": "5517a8c6-6b86-4488-f5a4-0ebe21a4cf0c",
        "colab": {
          "base_uri": "https://localhost:8080/"
        }
      },
      "execution_count": 30,
      "outputs": [
        {
          "output_type": "stream",
          "name": "stdout",
          "text": [
            "\n",
            "Your turn! Type sentences to classify:\n",
            "\n",
            "Sentence: \n",
            "\n",
            "======================================================================\n",
            "Demo complete!\n",
            "======================================================================\n"
          ]
        }
      ]
    }
  ]
}