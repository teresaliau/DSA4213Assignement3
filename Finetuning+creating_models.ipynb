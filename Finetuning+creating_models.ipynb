{
  "nbformat": 4,
  "nbformat_minor": 0,
  "metadata": {
    "colab": {
      "provenance": [],
      "gpuType": "T4",
      "authorship_tag": "ABX9TyMTp9AwODSV3yMJ6AUH4HWP",
      "include_colab_link": true
    },
    "kernelspec": {
      "name": "python3",
      "display_name": "Python 3"
    },
    "language_info": {
      "name": "python"
    },
    "accelerator": "GPU",
    "widgets": {
      "application/vnd.jupyter.widget-state+json": {
        "ea8322e53ed54ceea259cc82ed76a253": {
          "model_module": "@jupyter-widgets/controls",
          "model_name": "HBoxModel",
          "model_module_version": "1.5.0",
          "state": {
            "_dom_classes": [],
            "_model_module": "@jupyter-widgets/controls",
            "_model_module_version": "1.5.0",
            "_model_name": "HBoxModel",
            "_view_count": null,
            "_view_module": "@jupyter-widgets/controls",
            "_view_module_version": "1.5.0",
            "_view_name": "HBoxView",
            "box_style": "",
            "children": [
              "IPY_MODEL_987316c2d14741d0b5a192bc5a86f7e0",
              "IPY_MODEL_6c4774fdfaaf41999ec4ea0d882e6929",
              "IPY_MODEL_3a23c039e667450e8b25c5f5dca10759"
            ],
            "layout": "IPY_MODEL_a83d395da4b345239893ee8e43f8430d"
          }
        },
        "987316c2d14741d0b5a192bc5a86f7e0": {
          "model_module": "@jupyter-widgets/controls",
          "model_name": "HTMLModel",
          "model_module_version": "1.5.0",
          "state": {
            "_dom_classes": [],
            "_model_module": "@jupyter-widgets/controls",
            "_model_module_version": "1.5.0",
            "_model_name": "HTMLModel",
            "_view_count": null,
            "_view_module": "@jupyter-widgets/controls",
            "_view_module_version": "1.5.0",
            "_view_name": "HTMLView",
            "description": "",
            "description_tooltip": null,
            "layout": "IPY_MODEL_86c5d9c930e544879890d353ad33c499",
            "placeholder": "​",
            "style": "IPY_MODEL_2916b4bca4464953b376dc7d858870d6",
            "value": "Map: 100%"
          }
        },
        "6c4774fdfaaf41999ec4ea0d882e6929": {
          "model_module": "@jupyter-widgets/controls",
          "model_name": "FloatProgressModel",
          "model_module_version": "1.5.0",
          "state": {
            "_dom_classes": [],
            "_model_module": "@jupyter-widgets/controls",
            "_model_module_version": "1.5.0",
            "_model_name": "FloatProgressModel",
            "_view_count": null,
            "_view_module": "@jupyter-widgets/controls",
            "_view_module_version": "1.5.0",
            "_view_name": "ProgressView",
            "bar_style": "success",
            "description": "",
            "description_tooltip": null,
            "layout": "IPY_MODEL_d6d72bab7a7940e1b74ea31677858aed",
            "max": 2000,
            "min": 0,
            "orientation": "horizontal",
            "style": "IPY_MODEL_30f0fde036324b2381cc00de2411a1e8",
            "value": 2000
          }
        },
        "3a23c039e667450e8b25c5f5dca10759": {
          "model_module": "@jupyter-widgets/controls",
          "model_name": "HTMLModel",
          "model_module_version": "1.5.0",
          "state": {
            "_dom_classes": [],
            "_model_module": "@jupyter-widgets/controls",
            "_model_module_version": "1.5.0",
            "_model_name": "HTMLModel",
            "_view_count": null,
            "_view_module": "@jupyter-widgets/controls",
            "_view_module_version": "1.5.0",
            "_view_name": "HTMLView",
            "description": "",
            "description_tooltip": null,
            "layout": "IPY_MODEL_e4c0d309a53442fea47305a2828e7cc6",
            "placeholder": "​",
            "style": "IPY_MODEL_83029aba72aa4e29871ff71e056ff9fa",
            "value": " 2000/2000 [00:00&lt;00:00, 2502.30 examples/s]"
          }
        },
        "a83d395da4b345239893ee8e43f8430d": {
          "model_module": "@jupyter-widgets/base",
          "model_name": "LayoutModel",
          "model_module_version": "1.2.0",
          "state": {
            "_model_module": "@jupyter-widgets/base",
            "_model_module_version": "1.2.0",
            "_model_name": "LayoutModel",
            "_view_count": null,
            "_view_module": "@jupyter-widgets/base",
            "_view_module_version": "1.2.0",
            "_view_name": "LayoutView",
            "align_content": null,
            "align_items": null,
            "align_self": null,
            "border": null,
            "bottom": null,
            "display": null,
            "flex": null,
            "flex_flow": null,
            "grid_area": null,
            "grid_auto_columns": null,
            "grid_auto_flow": null,
            "grid_auto_rows": null,
            "grid_column": null,
            "grid_gap": null,
            "grid_row": null,
            "grid_template_areas": null,
            "grid_template_columns": null,
            "grid_template_rows": null,
            "height": null,
            "justify_content": null,
            "justify_items": null,
            "left": null,
            "margin": null,
            "max_height": null,
            "max_width": null,
            "min_height": null,
            "min_width": null,
            "object_fit": null,
            "object_position": null,
            "order": null,
            "overflow": null,
            "overflow_x": null,
            "overflow_y": null,
            "padding": null,
            "right": null,
            "top": null,
            "visibility": null,
            "width": null
          }
        },
        "86c5d9c930e544879890d353ad33c499": {
          "model_module": "@jupyter-widgets/base",
          "model_name": "LayoutModel",
          "model_module_version": "1.2.0",
          "state": {
            "_model_module": "@jupyter-widgets/base",
            "_model_module_version": "1.2.0",
            "_model_name": "LayoutModel",
            "_view_count": null,
            "_view_module": "@jupyter-widgets/base",
            "_view_module_version": "1.2.0",
            "_view_name": "LayoutView",
            "align_content": null,
            "align_items": null,
            "align_self": null,
            "border": null,
            "bottom": null,
            "display": null,
            "flex": null,
            "flex_flow": null,
            "grid_area": null,
            "grid_auto_columns": null,
            "grid_auto_flow": null,
            "grid_auto_rows": null,
            "grid_column": null,
            "grid_gap": null,
            "grid_row": null,
            "grid_template_areas": null,
            "grid_template_columns": null,
            "grid_template_rows": null,
            "height": null,
            "justify_content": null,
            "justify_items": null,
            "left": null,
            "margin": null,
            "max_height": null,
            "max_width": null,
            "min_height": null,
            "min_width": null,
            "object_fit": null,
            "object_position": null,
            "order": null,
            "overflow": null,
            "overflow_x": null,
            "overflow_y": null,
            "padding": null,
            "right": null,
            "top": null,
            "visibility": null,
            "width": null
          }
        },
        "2916b4bca4464953b376dc7d858870d6": {
          "model_module": "@jupyter-widgets/controls",
          "model_name": "DescriptionStyleModel",
          "model_module_version": "1.5.0",
          "state": {
            "_model_module": "@jupyter-widgets/controls",
            "_model_module_version": "1.5.0",
            "_model_name": "DescriptionStyleModel",
            "_view_count": null,
            "_view_module": "@jupyter-widgets/base",
            "_view_module_version": "1.2.0",
            "_view_name": "StyleView",
            "description_width": ""
          }
        },
        "d6d72bab7a7940e1b74ea31677858aed": {
          "model_module": "@jupyter-widgets/base",
          "model_name": "LayoutModel",
          "model_module_version": "1.2.0",
          "state": {
            "_model_module": "@jupyter-widgets/base",
            "_model_module_version": "1.2.0",
            "_model_name": "LayoutModel",
            "_view_count": null,
            "_view_module": "@jupyter-widgets/base",
            "_view_module_version": "1.2.0",
            "_view_name": "LayoutView",
            "align_content": null,
            "align_items": null,
            "align_self": null,
            "border": null,
            "bottom": null,
            "display": null,
            "flex": null,
            "flex_flow": null,
            "grid_area": null,
            "grid_auto_columns": null,
            "grid_auto_flow": null,
            "grid_auto_rows": null,
            "grid_column": null,
            "grid_gap": null,
            "grid_row": null,
            "grid_template_areas": null,
            "grid_template_columns": null,
            "grid_template_rows": null,
            "height": null,
            "justify_content": null,
            "justify_items": null,
            "left": null,
            "margin": null,
            "max_height": null,
            "max_width": null,
            "min_height": null,
            "min_width": null,
            "object_fit": null,
            "object_position": null,
            "order": null,
            "overflow": null,
            "overflow_x": null,
            "overflow_y": null,
            "padding": null,
            "right": null,
            "top": null,
            "visibility": null,
            "width": null
          }
        },
        "30f0fde036324b2381cc00de2411a1e8": {
          "model_module": "@jupyter-widgets/controls",
          "model_name": "ProgressStyleModel",
          "model_module_version": "1.5.0",
          "state": {
            "_model_module": "@jupyter-widgets/controls",
            "_model_module_version": "1.5.0",
            "_model_name": "ProgressStyleModel",
            "_view_count": null,
            "_view_module": "@jupyter-widgets/base",
            "_view_module_version": "1.2.0",
            "_view_name": "StyleView",
            "bar_color": null,
            "description_width": ""
          }
        },
        "e4c0d309a53442fea47305a2828e7cc6": {
          "model_module": "@jupyter-widgets/base",
          "model_name": "LayoutModel",
          "model_module_version": "1.2.0",
          "state": {
            "_model_module": "@jupyter-widgets/base",
            "_model_module_version": "1.2.0",
            "_model_name": "LayoutModel",
            "_view_count": null,
            "_view_module": "@jupyter-widgets/base",
            "_view_module_version": "1.2.0",
            "_view_name": "LayoutView",
            "align_content": null,
            "align_items": null,
            "align_self": null,
            "border": null,
            "bottom": null,
            "display": null,
            "flex": null,
            "flex_flow": null,
            "grid_area": null,
            "grid_auto_columns": null,
            "grid_auto_flow": null,
            "grid_auto_rows": null,
            "grid_column": null,
            "grid_gap": null,
            "grid_row": null,
            "grid_template_areas": null,
            "grid_template_columns": null,
            "grid_template_rows": null,
            "height": null,
            "justify_content": null,
            "justify_items": null,
            "left": null,
            "margin": null,
            "max_height": null,
            "max_width": null,
            "min_height": null,
            "min_width": null,
            "object_fit": null,
            "object_position": null,
            "order": null,
            "overflow": null,
            "overflow_x": null,
            "overflow_y": null,
            "padding": null,
            "right": null,
            "top": null,
            "visibility": null,
            "width": null
          }
        },
        "83029aba72aa4e29871ff71e056ff9fa": {
          "model_module": "@jupyter-widgets/controls",
          "model_name": "DescriptionStyleModel",
          "model_module_version": "1.5.0",
          "state": {
            "_model_module": "@jupyter-widgets/controls",
            "_model_module_version": "1.5.0",
            "_model_name": "DescriptionStyleModel",
            "_view_count": null,
            "_view_module": "@jupyter-widgets/base",
            "_view_module_version": "1.2.0",
            "_view_name": "StyleView",
            "description_width": ""
          }
        },
        "78a71edfcd57497ab89325e201923953": {
          "model_module": "@jupyter-widgets/controls",
          "model_name": "HBoxModel",
          "model_module_version": "1.5.0",
          "state": {
            "_dom_classes": [],
            "_model_module": "@jupyter-widgets/controls",
            "_model_module_version": "1.5.0",
            "_model_name": "HBoxModel",
            "_view_count": null,
            "_view_module": "@jupyter-widgets/controls",
            "_view_module_version": "1.5.0",
            "_view_name": "HBoxView",
            "box_style": "",
            "children": [
              "IPY_MODEL_fd92b92626f64117bd705ad1cb535589",
              "IPY_MODEL_aae8f64a89414b919188df8eeef89682",
              "IPY_MODEL_1460b6f3a89841af80c868c3cc0d4bbc"
            ],
            "layout": "IPY_MODEL_0be0a437826d4cc6b02e548a9fd5d25d"
          }
        },
        "fd92b92626f64117bd705ad1cb535589": {
          "model_module": "@jupyter-widgets/controls",
          "model_name": "HTMLModel",
          "model_module_version": "1.5.0",
          "state": {
            "_dom_classes": [],
            "_model_module": "@jupyter-widgets/controls",
            "_model_module_version": "1.5.0",
            "_model_name": "HTMLModel",
            "_view_count": null,
            "_view_module": "@jupyter-widgets/controls",
            "_view_module_version": "1.5.0",
            "_view_name": "HTMLView",
            "description": "",
            "description_tooltip": null,
            "layout": "IPY_MODEL_3e0085445bd3458d82ef95f6195a6fdf",
            "placeholder": "​",
            "style": "IPY_MODEL_a279a620e80e433c90241e984cb80c7c",
            "value": "Map: 100%"
          }
        },
        "aae8f64a89414b919188df8eeef89682": {
          "model_module": "@jupyter-widgets/controls",
          "model_name": "FloatProgressModel",
          "model_module_version": "1.5.0",
          "state": {
            "_dom_classes": [],
            "_model_module": "@jupyter-widgets/controls",
            "_model_module_version": "1.5.0",
            "_model_name": "FloatProgressModel",
            "_view_count": null,
            "_view_module": "@jupyter-widgets/controls",
            "_view_module_version": "1.5.0",
            "_view_name": "ProgressView",
            "bar_style": "success",
            "description": "",
            "description_tooltip": null,
            "layout": "IPY_MODEL_585bd6d96b8c4fb6817e5127cfdfe6e4",
            "max": 756,
            "min": 0,
            "orientation": "horizontal",
            "style": "IPY_MODEL_1e8e3de89e7c4bab90b442f7f7f30800",
            "value": 756
          }
        },
        "1460b6f3a89841af80c868c3cc0d4bbc": {
          "model_module": "@jupyter-widgets/controls",
          "model_name": "HTMLModel",
          "model_module_version": "1.5.0",
          "state": {
            "_dom_classes": [],
            "_model_module": "@jupyter-widgets/controls",
            "_model_module_version": "1.5.0",
            "_model_name": "HTMLModel",
            "_view_count": null,
            "_view_module": "@jupyter-widgets/controls",
            "_view_module_version": "1.5.0",
            "_view_name": "HTMLView",
            "description": "",
            "description_tooltip": null,
            "layout": "IPY_MODEL_5e89d3d490494b2785306c3a04e21b03",
            "placeholder": "​",
            "style": "IPY_MODEL_0b30803ac4fc4e089f7904080d248ca6",
            "value": " 756/756 [00:00&lt;00:00, 7648.37 examples/s]"
          }
        },
        "0be0a437826d4cc6b02e548a9fd5d25d": {
          "model_module": "@jupyter-widgets/base",
          "model_name": "LayoutModel",
          "model_module_version": "1.2.0",
          "state": {
            "_model_module": "@jupyter-widgets/base",
            "_model_module_version": "1.2.0",
            "_model_name": "LayoutModel",
            "_view_count": null,
            "_view_module": "@jupyter-widgets/base",
            "_view_module_version": "1.2.0",
            "_view_name": "LayoutView",
            "align_content": null,
            "align_items": null,
            "align_self": null,
            "border": null,
            "bottom": null,
            "display": null,
            "flex": null,
            "flex_flow": null,
            "grid_area": null,
            "grid_auto_columns": null,
            "grid_auto_flow": null,
            "grid_auto_rows": null,
            "grid_column": null,
            "grid_gap": null,
            "grid_row": null,
            "grid_template_areas": null,
            "grid_template_columns": null,
            "grid_template_rows": null,
            "height": null,
            "justify_content": null,
            "justify_items": null,
            "left": null,
            "margin": null,
            "max_height": null,
            "max_width": null,
            "min_height": null,
            "min_width": null,
            "object_fit": null,
            "object_position": null,
            "order": null,
            "overflow": null,
            "overflow_x": null,
            "overflow_y": null,
            "padding": null,
            "right": null,
            "top": null,
            "visibility": null,
            "width": null
          }
        },
        "3e0085445bd3458d82ef95f6195a6fdf": {
          "model_module": "@jupyter-widgets/base",
          "model_name": "LayoutModel",
          "model_module_version": "1.2.0",
          "state": {
            "_model_module": "@jupyter-widgets/base",
            "_model_module_version": "1.2.0",
            "_model_name": "LayoutModel",
            "_view_count": null,
            "_view_module": "@jupyter-widgets/base",
            "_view_module_version": "1.2.0",
            "_view_name": "LayoutView",
            "align_content": null,
            "align_items": null,
            "align_self": null,
            "border": null,
            "bottom": null,
            "display": null,
            "flex": null,
            "flex_flow": null,
            "grid_area": null,
            "grid_auto_columns": null,
            "grid_auto_flow": null,
            "grid_auto_rows": null,
            "grid_column": null,
            "grid_gap": null,
            "grid_row": null,
            "grid_template_areas": null,
            "grid_template_columns": null,
            "grid_template_rows": null,
            "height": null,
            "justify_content": null,
            "justify_items": null,
            "left": null,
            "margin": null,
            "max_height": null,
            "max_width": null,
            "min_height": null,
            "min_width": null,
            "object_fit": null,
            "object_position": null,
            "order": null,
            "overflow": null,
            "overflow_x": null,
            "overflow_y": null,
            "padding": null,
            "right": null,
            "top": null,
            "visibility": null,
            "width": null
          }
        },
        "a279a620e80e433c90241e984cb80c7c": {
          "model_module": "@jupyter-widgets/controls",
          "model_name": "DescriptionStyleModel",
          "model_module_version": "1.5.0",
          "state": {
            "_model_module": "@jupyter-widgets/controls",
            "_model_module_version": "1.5.0",
            "_model_name": "DescriptionStyleModel",
            "_view_count": null,
            "_view_module": "@jupyter-widgets/base",
            "_view_module_version": "1.2.0",
            "_view_name": "StyleView",
            "description_width": ""
          }
        },
        "585bd6d96b8c4fb6817e5127cfdfe6e4": {
          "model_module": "@jupyter-widgets/base",
          "model_name": "LayoutModel",
          "model_module_version": "1.2.0",
          "state": {
            "_model_module": "@jupyter-widgets/base",
            "_model_module_version": "1.2.0",
            "_model_name": "LayoutModel",
            "_view_count": null,
            "_view_module": "@jupyter-widgets/base",
            "_view_module_version": "1.2.0",
            "_view_name": "LayoutView",
            "align_content": null,
            "align_items": null,
            "align_self": null,
            "border": null,
            "bottom": null,
            "display": null,
            "flex": null,
            "flex_flow": null,
            "grid_area": null,
            "grid_auto_columns": null,
            "grid_auto_flow": null,
            "grid_auto_rows": null,
            "grid_column": null,
            "grid_gap": null,
            "grid_row": null,
            "grid_template_areas": null,
            "grid_template_columns": null,
            "grid_template_rows": null,
            "height": null,
            "justify_content": null,
            "justify_items": null,
            "left": null,
            "margin": null,
            "max_height": null,
            "max_width": null,
            "min_height": null,
            "min_width": null,
            "object_fit": null,
            "object_position": null,
            "order": null,
            "overflow": null,
            "overflow_x": null,
            "overflow_y": null,
            "padding": null,
            "right": null,
            "top": null,
            "visibility": null,
            "width": null
          }
        },
        "1e8e3de89e7c4bab90b442f7f7f30800": {
          "model_module": "@jupyter-widgets/controls",
          "model_name": "ProgressStyleModel",
          "model_module_version": "1.5.0",
          "state": {
            "_model_module": "@jupyter-widgets/controls",
            "_model_module_version": "1.5.0",
            "_model_name": "ProgressStyleModel",
            "_view_count": null,
            "_view_module": "@jupyter-widgets/base",
            "_view_module_version": "1.2.0",
            "_view_name": "StyleView",
            "bar_color": null,
            "description_width": ""
          }
        },
        "5e89d3d490494b2785306c3a04e21b03": {
          "model_module": "@jupyter-widgets/base",
          "model_name": "LayoutModel",
          "model_module_version": "1.2.0",
          "state": {
            "_model_module": "@jupyter-widgets/base",
            "_model_module_version": "1.2.0",
            "_model_name": "LayoutModel",
            "_view_count": null,
            "_view_module": "@jupyter-widgets/base",
            "_view_module_version": "1.2.0",
            "_view_name": "LayoutView",
            "align_content": null,
            "align_items": null,
            "align_self": null,
            "border": null,
            "bottom": null,
            "display": null,
            "flex": null,
            "flex_flow": null,
            "grid_area": null,
            "grid_auto_columns": null,
            "grid_auto_flow": null,
            "grid_auto_rows": null,
            "grid_column": null,
            "grid_gap": null,
            "grid_row": null,
            "grid_template_areas": null,
            "grid_template_columns": null,
            "grid_template_rows": null,
            "height": null,
            "justify_content": null,
            "justify_items": null,
            "left": null,
            "margin": null,
            "max_height": null,
            "max_width": null,
            "min_height": null,
            "min_width": null,
            "object_fit": null,
            "object_position": null,
            "order": null,
            "overflow": null,
            "overflow_x": null,
            "overflow_y": null,
            "padding": null,
            "right": null,
            "top": null,
            "visibility": null,
            "width": null
          }
        },
        "0b30803ac4fc4e089f7904080d248ca6": {
          "model_module": "@jupyter-widgets/controls",
          "model_name": "DescriptionStyleModel",
          "model_module_version": "1.5.0",
          "state": {
            "_model_module": "@jupyter-widgets/controls",
            "_model_module_version": "1.5.0",
            "_model_name": "DescriptionStyleModel",
            "_view_count": null,
            "_view_module": "@jupyter-widgets/base",
            "_view_module_version": "1.2.0",
            "_view_name": "StyleView",
            "description_width": ""
          }
        }
      }
    }
  },
  "cells": [
    {
      "cell_type": "markdown",
      "metadata": {
        "id": "view-in-github",
        "colab_type": "text"
      },
      "source": [
        "<a href=\"https://colab.research.google.com/github/teresaliau/DSA4213Assignement3/blob/main/Finetuning%2Bcreating_models.ipynb\" target=\"_parent\"><img src=\"https://colab.research.google.com/assets/colab-badge.svg\" alt=\"Open In Colab\"/></a>"
      ]
    },
    {
      "cell_type": "markdown",
      "source": [
        "# Clone Github Repo"
      ],
      "metadata": {
        "id": "m6Ic3Cic7V6w"
      }
    },
    {
      "cell_type": "code",
      "execution_count": null,
      "metadata": {
        "id": "8ie8fOJg5kQi"
      },
      "outputs": [],
      "source": [
        "# Configure git\n",
        "!git config --global user.email \"teresaliau3@gmail.com\"\n",
        "!git config --global user.name \"teresaliau\"\n",
        "\n"
      ]
    },
    {
      "cell_type": "code",
      "source": [
        "# Clone your repository\n",
        "!git clone https://github.com/teresaliau/DSA4213Assignement3.git\n",
        "\n",
        "%cd DSA4213Assignement3\n",
        "\n",
        "!ls"
      ],
      "metadata": {
        "colab": {
          "base_uri": "https://localhost:8080/"
        },
        "id": "1hOxS7Z06q8V",
        "outputId": "4ee4e317-fc7a-4c60-e239-cbb5914365c6"
      },
      "execution_count": null,
      "outputs": [
        {
          "output_type": "stream",
          "name": "stdout",
          "text": [
            "fatal: destination path 'DSA4213Assignement3' already exists and is not an empty directory.\n",
            "/content/DSA4213Assignement3\n",
            "confusion_matrices.png\tmodel_lora_adapter   results_full\n",
            "data_distribution.png\tood_evaluation.json  results_lora\n",
            "error_analysis.json\tREADME.md\t     results_summary.json\n",
            "model_full_finetuned\trequirements.txt     user_predictions.json\n"
          ]
        }
      ]
    },
    {
      "cell_type": "markdown",
      "source": [
        "# Creating Project Files"
      ],
      "metadata": {
        "id": "1CPC1ugj7ZFD"
      }
    },
    {
      "cell_type": "code",
      "source": [
        "import transformers\n",
        "print(transformers.__version__)"
      ],
      "metadata": {
        "colab": {
          "base_uri": "https://localhost:8080/"
        },
        "id": "wK4EL0s8_ppP",
        "outputId": "ebeb3ea7-036d-4a8e-ed07-7c71707e4726"
      },
      "execution_count": null,
      "outputs": [
        {
          "output_type": "stream",
          "name": "stdout",
          "text": [
            "4.57.0.dev0\n"
          ]
        }
      ]
    },
    {
      "cell_type": "code",
      "source": [
        "print(\"creating files\")\n",
        "\n",
        "# 1. requirements.txt\n",
        "requirements = \"\"\"transformers==4.57.0\n",
        "datasets==2.16.0\n",
        "peft==0.7.0\n",
        "accelerate==0.25.0\n",
        "evaluate==0.4.1\n",
        "scikit-learn==1.3.2\n",
        "torch==2.1.0\n",
        "numpy==1.24.3\n",
        "pandas==2.1.4\n",
        "matplotlib==3.8.2\n",
        "seaborn==0.13.0\n",
        "\"\"\"\n",
        "\n",
        "with open('requirements.txt', 'w') as f:\n",
        "    f.write(requirements.strip())\n",
        "print(\"requirements.txt created\")\n",
        "\n",
        "# 2. .gitignore\n",
        "gitignore = \"\"\"\n",
        "# Models (too large)\n",
        "model_full_finetuned/\n",
        "model_lora_adapter/\n",
        "*.bin\n",
        "*.safetensors\n",
        "\n",
        "# Training outputs\n",
        "results_full/\n",
        "results_lora/\n",
        "logs_full/\n",
        "logs_lora/\n",
        "\n",
        "# Python\n",
        "__pycache__/\n",
        "*.pyc\n",
        ".ipynb_checkpoints/\n",
        "\n",
        "# Data\n",
        "data/\n",
        "\"\"\"\n",
        "\n",
        "with open('.gitignore', 'a') as f:\n",
        "    f.write(gitignore)\n",
        "print(\".gitignore created\")\n",
        "\n",
        "# 3. Check files created\n",
        "print(\"\\n current files:\")\n",
        "!ls -lh\n"
      ],
      "metadata": {
        "colab": {
          "base_uri": "https://localhost:8080/"
        },
        "id": "OWkDh8NF7UUZ",
        "outputId": "b4e33977-a79e-47f9-cd18-bec057518b90"
      },
      "execution_count": null,
      "outputs": [
        {
          "output_type": "stream",
          "name": "stdout",
          "text": [
            "creating files\n",
            "requirements.txt created\n",
            ".gitignore created\n",
            "\n",
            " current files:\n",
            "total 368K\n",
            "-rw-r--r-- 1 root root 218K Sep 30 01:20 confusion_matrices.png\n",
            "-rw-r--r-- 1 root root  89K Sep 30 01:08 data_distribution.png\n",
            "-rw-r--r-- 1 root root  18K Sep 30 01:24 error_analysis.json\n",
            "drwxr-xr-x 2 root root 4.0K Sep 30 01:25 model_full_finetuned\n",
            "drwxr-xr-x 2 root root 4.0K Sep 30 01:25 model_lora_adapter\n",
            "-rw-r--r-- 1 root root  338 Sep 30 01:27 ood_evaluation.json\n",
            "-rw-r--r-- 1 root root   22 Sep 30 01:06 README.md\n",
            "-rw-r--r-- 1 root root  179 Sep 30 03:03 requirements.txt\n",
            "drwxr-xr-x 4 root root 4.0K Sep 30 01:15 results_full\n",
            "drwxr-xr-x 4 root root 4.0K Sep 30 01:19 results_lora\n",
            "-rw-r--r-- 1 root root  583 Sep 30 01:19 results_summary.json\n",
            "-rw-r--r-- 1 root root  337 Sep 30 02:28 user_predictions.json\n"
          ]
        }
      ]
    },
    {
      "cell_type": "markdown",
      "source": [
        "# Installing Packages"
      ],
      "metadata": {
        "id": "5C5sQuVQ8Cul"
      }
    },
    {
      "cell_type": "code",
      "source": [
        "print(\"Installing packages.\")\n",
        "\n",
        "!pip install -q transformers datasets peft accelerate evaluate scikit-learn\n",
        "!pip install git+https://github.com/huggingface/transformers.git\n",
        "\n",
        "import torch\n",
        "import numpy as np\n",
        "import pandas as pd\n",
        "from transformers import __version__ as transformers_version\n",
        "\n",
        "\n",
        "print(f\"\\n Installation complete!\")\n",
        "print(f\"PyTorch version: {torch.__version__}\")\n",
        "print(f\"Transformers version: {transformers_version}\")\n",
        "print(f\"Device: {torch.cuda.get_device_name(0) if torch.cuda.is_available() else 'CPU'}\")\n",
        "\n",
        "# Quick GPU check\n",
        "if torch.cuda.is_available():\n",
        "    print(f\"GPU Memory: {torch.cuda.get_device_properties(0).total_memory / 1e9:.1f} GB\")\n",
        "else:\n",
        "    print(\"Error: No GPU detected!\")"
      ],
      "metadata": {
        "colab": {
          "base_uri": "https://localhost:8080/"
        },
        "id": "-xEV6zcK78oS",
        "outputId": "649bed2e-490c-4aa1-8a4c-254c9654f1d4"
      },
      "execution_count": null,
      "outputs": [
        {
          "output_type": "stream",
          "name": "stdout",
          "text": [
            "Installing packages.\n",
            "Collecting git+https://github.com/huggingface/transformers.git\n",
            "  Cloning https://github.com/huggingface/transformers.git to /tmp/pip-req-build-ju64_gf5\n",
            "  Running command git clone --filter=blob:none --quiet https://github.com/huggingface/transformers.git /tmp/pip-req-build-ju64_gf5\n",
            "  Resolved https://github.com/huggingface/transformers.git to commit def4a37e19601b597f170e81684c8b0b5f84db39\n",
            "  Installing build dependencies ... \u001b[?25l\u001b[?25hdone\n",
            "  Getting requirements to build wheel ... \u001b[?25l\u001b[?25hdone\n",
            "  Preparing metadata (pyproject.toml) ... \u001b[?25l\u001b[?25hdone\n",
            "Requirement already satisfied: filelock in /usr/local/lib/python3.12/dist-packages (from transformers==4.57.0.dev0) (3.19.1)\n",
            "Requirement already satisfied: huggingface-hub==1.0.0.rc2 in /usr/local/lib/python3.12/dist-packages (from transformers==4.57.0.dev0) (1.0.0rc2)\n",
            "Requirement already satisfied: numpy>=1.17 in /usr/local/lib/python3.12/dist-packages (from transformers==4.57.0.dev0) (2.0.2)\n",
            "Requirement already satisfied: packaging>=20.0 in /usr/local/lib/python3.12/dist-packages (from transformers==4.57.0.dev0) (25.0)\n",
            "Requirement already satisfied: pyyaml>=5.1 in /usr/local/lib/python3.12/dist-packages (from transformers==4.57.0.dev0) (6.0.2)\n",
            "Requirement already satisfied: regex!=2019.12.17 in /usr/local/lib/python3.12/dist-packages (from transformers==4.57.0.dev0) (2024.11.6)\n",
            "Requirement already satisfied: requests in /usr/local/lib/python3.12/dist-packages (from transformers==4.57.0.dev0) (2.32.4)\n",
            "Requirement already satisfied: tokenizers<=0.23.0,>=0.22.0 in /usr/local/lib/python3.12/dist-packages (from transformers==4.57.0.dev0) (0.22.1)\n",
            "Requirement already satisfied: safetensors>=0.4.3 in /usr/local/lib/python3.12/dist-packages (from transformers==4.57.0.dev0) (0.6.2)\n",
            "Requirement already satisfied: tqdm>=4.27 in /usr/local/lib/python3.12/dist-packages (from transformers==4.57.0.dev0) (4.67.1)\n",
            "Requirement already satisfied: fsspec>=2023.5.0 in /usr/local/lib/python3.12/dist-packages (from huggingface-hub==1.0.0.rc2->transformers==4.57.0.dev0) (2025.3.0)\n",
            "Requirement already satisfied: httpx<1,>=0.23.0 in /usr/local/lib/python3.12/dist-packages (from huggingface-hub==1.0.0.rc2->transformers==4.57.0.dev0) (0.28.1)\n",
            "Requirement already satisfied: typer-slim in /usr/local/lib/python3.12/dist-packages (from huggingface-hub==1.0.0.rc2->transformers==4.57.0.dev0) (0.19.2)\n",
            "Requirement already satisfied: typing-extensions>=3.7.4.3 in /usr/local/lib/python3.12/dist-packages (from huggingface-hub==1.0.0.rc2->transformers==4.57.0.dev0) (4.15.0)\n",
            "Requirement already satisfied: hf-xet<2.0.0,>=1.1.3 in /usr/local/lib/python3.12/dist-packages (from huggingface-hub==1.0.0.rc2->transformers==4.57.0.dev0) (1.1.10)\n",
            "Requirement already satisfied: charset_normalizer<4,>=2 in /usr/local/lib/python3.12/dist-packages (from requests->transformers==4.57.0.dev0) (3.4.3)\n",
            "Requirement already satisfied: idna<4,>=2.5 in /usr/local/lib/python3.12/dist-packages (from requests->transformers==4.57.0.dev0) (3.10)\n",
            "Requirement already satisfied: urllib3<3,>=1.21.1 in /usr/local/lib/python3.12/dist-packages (from requests->transformers==4.57.0.dev0) (2.5.0)\n",
            "Requirement already satisfied: certifi>=2017.4.17 in /usr/local/lib/python3.12/dist-packages (from requests->transformers==4.57.0.dev0) (2025.8.3)\n",
            "Requirement already satisfied: anyio in /usr/local/lib/python3.12/dist-packages (from httpx<1,>=0.23.0->huggingface-hub==1.0.0.rc2->transformers==4.57.0.dev0) (4.10.0)\n",
            "Requirement already satisfied: httpcore==1.* in /usr/local/lib/python3.12/dist-packages (from httpx<1,>=0.23.0->huggingface-hub==1.0.0.rc2->transformers==4.57.0.dev0) (1.0.9)\n",
            "Requirement already satisfied: h11>=0.16 in /usr/local/lib/python3.12/dist-packages (from httpcore==1.*->httpx<1,>=0.23.0->huggingface-hub==1.0.0.rc2->transformers==4.57.0.dev0) (0.16.0)\n",
            "Requirement already satisfied: click>=8.0.0 in /usr/local/lib/python3.12/dist-packages (from typer-slim->huggingface-hub==1.0.0.rc2->transformers==4.57.0.dev0) (8.2.1)\n",
            "Requirement already satisfied: sniffio>=1.1 in /usr/local/lib/python3.12/dist-packages (from anyio->httpx<1,>=0.23.0->huggingface-hub==1.0.0.rc2->transformers==4.57.0.dev0) (1.3.1)\n",
            "\n",
            " Installation complete!\n",
            "PyTorch version: 2.8.0+cu126\n",
            "Transformers version: 4.57.0.dev0\n",
            "Device: Tesla T4\n",
            "GPU Memory: 15.8 GB\n"
          ]
        }
      ]
    },
    {
      "cell_type": "code",
      "source": [
        "from datasets import load_dataset\n",
        "import matplotlib.pyplot as plt\n",
        "import evaluate"
      ],
      "metadata": {
        "id": "D-WlbhFP8iY_"
      },
      "execution_count": null,
      "outputs": []
    },
    {
      "cell_type": "markdown",
      "source": [
        "# Loading Dataset and Exploration"
      ],
      "metadata": {
        "id": "kZjQpkmd8dKR"
      }
    },
    {
      "cell_type": "code",
      "source": [
        "print(\"Loading emotion dataset\")\n",
        "dataset = load_dataset(\"emotion\")"
      ],
      "metadata": {
        "colab": {
          "base_uri": "https://localhost:8080/"
        },
        "id": "5dumeB2Y8c47",
        "outputId": "25c26231-d142-4a97-f701-6e9cdeaa8cda"
      },
      "execution_count": null,
      "outputs": [
        {
          "output_type": "stream",
          "name": "stdout",
          "text": [
            "Loading emotion dataset\n"
          ]
        },
        {
          "output_type": "stream",
          "name": "stderr",
          "text": [
            "/usr/local/lib/python3.12/dist-packages/huggingface_hub/utils/_auth.py:94: UserWarning: \n",
            "The secret `HF_TOKEN` does not exist in your Colab secrets.\n",
            "To authenticate with the Hugging Face Hub, create a token in your settings tab (https://huggingface.co/settings/tokens), set it as secret in your Google Colab and restart your session.\n",
            "You will be able to reuse this secret in all of your notebooks.\n",
            "Please note that authentication is recommended but still optional to access public models or datasets.\n",
            "  warnings.warn(\n"
          ]
        }
      ]
    },
    {
      "cell_type": "code",
      "source": [
        "print(\"Dataset Structure:\")\n",
        "print(dataset)\n",
        "\n",
        "print(\"Class Distribution (Training Set):\")\n",
        "label_counts = pd.Series(dataset['train']['label']).value_counts().sort_index()\n",
        "print(label_counts)\n",
        "\n"
      ],
      "metadata": {
        "colab": {
          "base_uri": "https://localhost:8080/"
        },
        "id": "EGyMQOLf87Nb",
        "outputId": "03770f5a-b139-4b9c-a78b-ab5130df1e0a"
      },
      "execution_count": null,
      "outputs": [
        {
          "output_type": "stream",
          "name": "stdout",
          "text": [
            "Dataset Structure:\n",
            "DatasetDict({\n",
            "    train: Dataset({\n",
            "        features: ['text', 'label'],\n",
            "        num_rows: 16000\n",
            "    })\n",
            "    validation: Dataset({\n",
            "        features: ['text', 'label'],\n",
            "        num_rows: 2000\n",
            "    })\n",
            "    test: Dataset({\n",
            "        features: ['text', 'label'],\n",
            "        num_rows: 2000\n",
            "    })\n",
            "})\n",
            "Class Distribution (Training Set):\n",
            "0    4666\n",
            "1    5362\n",
            "2    1304\n",
            "3    2159\n",
            "4    1937\n",
            "5     572\n",
            "Name: count, dtype: int64\n"
          ]
        }
      ]
    },
    {
      "cell_type": "code",
      "source": [
        "print(\"Label Meanings:\")\n",
        "label_names = ['sadness', 'joy', 'love', 'anger', 'fear', 'surprise']\n",
        "for i, name in enumerate(label_names):\n",
        "    count = label_counts[i]\n",
        "    pct = count / len(dataset['train']) * 100\n",
        "    print(f\"  {i}: {name:10s} - {count:,} examples ({pct:.1f}%)\")\n"
      ],
      "metadata": {
        "colab": {
          "base_uri": "https://localhost:8080/"
        },
        "id": "G4j58rQB8_kl",
        "outputId": "af547d6b-6405-4c3a-eee8-7b783533c3ab"
      },
      "execution_count": null,
      "outputs": [
        {
          "output_type": "stream",
          "name": "stdout",
          "text": [
            "Label Meanings:\n",
            "  0: sadness    - 4,666 examples (29.2%)\n",
            "  1: joy        - 5,362 examples (33.5%)\n",
            "  2: love       - 1,304 examples (8.2%)\n",
            "  3: anger      - 2,159 examples (13.5%)\n",
            "  4: fear       - 1,937 examples (12.1%)\n",
            "  5: surprise   - 572 examples (3.6%)\n"
          ]
        }
      ]
    },
    {
      "cell_type": "code",
      "source": [
        "print(\"Sample Examples:\")\n",
        "for i in range(3):\n",
        "    text = dataset['train'][i]['text']\n",
        "    label = label_names[dataset['train'][i]['label']]\n",
        "    print(f\"\\n{i+1}. [{label.upper()}]: {text}\")\n"
      ],
      "metadata": {
        "colab": {
          "base_uri": "https://localhost:8080/"
        },
        "id": "_w8UJi299Du8",
        "outputId": "65ad43da-db79-40cc-b036-618bb8caec0f"
      },
      "execution_count": null,
      "outputs": [
        {
          "output_type": "stream",
          "name": "stdout",
          "text": [
            "Sample Examples:\n",
            "\n",
            "1. [SADNESS]: i didnt feel humiliated\n",
            "\n",
            "2. [SADNESS]: i can go from feeling so hopeless to so damned hopeful just from being around someone who cares and is awake\n",
            "\n",
            "3. [ANGER]: im grabbing a minute to post i feel greedy wrong\n"
          ]
        }
      ]
    },
    {
      "cell_type": "code",
      "source": [
        "plt.figure(figsize=(10, 4))\n",
        "plt.bar(label_names, [label_counts[i] for i in range(6)], color='steelblue')\n",
        "plt.title('Emotion Distribution in Training Set')\n",
        "plt.xlabel('Emotion')\n",
        "plt.ylabel('Count')\n",
        "plt.xticks(rotation=45)\n",
        "plt.tight_layout()\n",
        "plt.savefig('data_distribution.png', dpi=300, bbox_inches='tight')\n",
        "print(\"\\n Data distribution saved to data_distribution.png\")\n",
        "plt.show()\n"
      ],
      "metadata": {
        "colab": {
          "base_uri": "https://localhost:8080/",
          "height": 442
        },
        "id": "A-hqmUj09HxY",
        "outputId": "423698bd-9dd8-4b2a-b500-4bf300aac9c2"
      },
      "execution_count": null,
      "outputs": [
        {
          "output_type": "stream",
          "name": "stdout",
          "text": [
            "\n",
            " Data distribution saved to data_distribution.png\n"
          ]
        },
        {
          "output_type": "display_data",
          "data": {
            "text/plain": [
              "<Figure size 1000x400 with 1 Axes>"
            ],
            "image/png": "[encoded data removed]"
          },
          "metadata": {}
        }
      ]
    },
    {
      "cell_type": "code",
      "source": [
        "print(f\"Train: {len(dataset['train']):,} examples\")\n",
        "print(f\"Validation: {len(dataset['validation']):,} examples\")\n",
        "print(f\"Test: {len(dataset['test']):,} examples\")"
      ],
      "metadata": {
        "colab": {
          "base_uri": "https://localhost:8080/"
        },
        "id": "z0K4Qj4d9LuK",
        "outputId": "e0e0ba5e-fa2b-4c40-dfeb-13dee3ec589c"
      },
      "execution_count": null,
      "outputs": [
        {
          "output_type": "stream",
          "name": "stdout",
          "text": [
            "Train: 16,000 examples\n",
            "Validation: 2,000 examples\n",
            "Test: 2,000 examples\n"
          ]
        }
      ]
    },
    {
      "cell_type": "markdown",
      "source": [
        "# Tokenization"
      ],
      "metadata": {
        "id": "2z5YIVgX9XK9"
      }
    },
    {
      "cell_type": "code",
      "source": [
        "from transformers import AutoTokenizer\n",
        "\n",
        "MODEL_NAME = \"distilbert-base-uncased\"\n",
        "\n",
        "print(f\"tokenizer: {MODEL_NAME}\")\n",
        "tokenizer = AutoTokenizer.from_pretrained(MODEL_NAME)\n",
        "\n",
        "def tokenize_function(examples):\n",
        "    return tokenizer(\n",
        "        examples[\"text\"],\n",
        "        padding=\"max_length\",\n",
        "        truncation=True,\n",
        "        max_length=128\n",
        "    )\n",
        "\n",
        "print(\"\\nTokenizing datasets\")\n",
        "tokenized_datasets = dataset.map(tokenize_function, batched=True)\n",
        "\n",
        "# Split validation into val and test\n",
        "print(\"\\nSplitting validation into val/test\")\n",
        "val_test = tokenized_datasets['validation'].train_test_split(test_size=0.5, seed=42)\n",
        "tokenized_datasets['validation'] = val_test['train']\n",
        "tokenized_datasets['test'] = val_test['test']\n",
        "\n",
        "print(\"\\n Tokenization complete!\")\n",
        "print(f\"   Train: {len(tokenized_datasets['train']):,}\")\n",
        "print(f\"   Validation: {len(tokenized_datasets['validation']):,}\")\n",
        "print(f\"   Test: {len(tokenized_datasets['test']):,}\")\n",
        "\n",
        "# Show tokenized example\n",
        "print(\"\\n Example tokenization:\")\n",
        "sample = tokenized_datasets['train'][0]\n",
        "print(f\"Original text: {dataset['train'][0]['text']}\")\n",
        "print(f\"Token IDs (first 20): {sample['input_ids'][:20]}\")\n",
        "print(f\"Decoded: {tokenizer.decode(sample['input_ids'][:20])}\")"
      ],
      "metadata": {
        "colab": {
          "base_uri": "https://localhost:8080/",
          "height": 309,
          "referenced_widgets": [
            "ea8322e53ed54ceea259cc82ed76a253",
            "987316c2d14741d0b5a192bc5a86f7e0",
            "6c4774fdfaaf41999ec4ea0d882e6929",
            "3a23c039e667450e8b25c5f5dca10759",
            "a83d395da4b345239893ee8e43f8430d",
            "86c5d9c930e544879890d353ad33c499",
            "2916b4bca4464953b376dc7d858870d6",
            "d6d72bab7a7940e1b74ea31677858aed",
            "30f0fde036324b2381cc00de2411a1e8",
            "e4c0d309a53442fea47305a2828e7cc6",
            "83029aba72aa4e29871ff71e056ff9fa"
          ]
        },
        "id": "GWY-jswX9WsP",
        "outputId": "ad38a7cd-4e51-4029-f98c-c06f8ec34de9"
      },
      "execution_count": null,
      "outputs": [
        {
          "output_type": "stream",
          "name": "stdout",
          "text": [
            "tokenizer: distilbert-base-uncased\n",
            "\n",
            "Tokenizing datasets\n"
          ]
        },
        {
          "output_type": "display_data",
          "data": {
            "text/plain": [
              "Map:   0%|          | 0/2000 [00:00<?, ? examples/s]"
            ],
            "application/vnd.jupyter.widget-view+json": {
              "version_major": 2,
              "version_minor": 0,
              "model_id": "ea8322e53ed54ceea259cc82ed76a253"
            }
          },
          "metadata": {}
        },
        {
          "output_type": "stream",
          "name": "stdout",
          "text": [
            "\n",
            "Splitting validation into val/test\n",
            "\n",
            " Tokenization complete!\n",
            "   Train: 16,000\n",
            "   Validation: 1,000\n",
            "   Test: 1,000\n",
            "\n",
            " Example tokenization:\n",
            "Original text: i didnt feel humiliated\n",
            "Token IDs (first 20): [101, 1045, 2134, 2102, 2514, 26608, 102, 0, 0, 0, 0, 0, 0, 0, 0, 0, 0, 0, 0, 0]\n",
            "Decoded: [CLS] i didnt feel humiliated [SEP] [PAD] [PAD] [PAD] [PAD] [PAD] [PAD] [PAD] [PAD] [PAD] [PAD] [PAD] [PAD] [PAD]\n"
          ]
        }
      ]
    },
    {
      "cell_type": "markdown",
      "source": [
        "# Evaluation Functions\n",
        " Metrics defined!\n",
        "   - Accuracy: Overall correctness\n",
        "   - F1 (weighted): Handles class imbalance, weighted by support\n",
        "   - F1 (macro): Treats all classes equally (good for imbalance detection)\n",
        "   - Precision: How many predicted positives are actually positive\n",
        "   - Recall: How many actual positives were caught"
      ],
      "metadata": {
        "id": "oZlcbWW2-JG_"
      }
    },
    {
      "cell_type": "code",
      "source": [
        "# Load metrics\n",
        "accuracy_metric = evaluate.load(\"accuracy\")\n",
        "f1_metric = evaluate.load(\"f1\")\n",
        "precision_metric = evaluate.load(\"precision\")\n",
        "recall_metric = evaluate.load(\"recall\")\n",
        "\n",
        "def compute_metrics(eval_pred):\n",
        "    \"\"\"Calculate comprehensive evaluation metrics\"\"\"\n",
        "    logits, labels = eval_pred\n",
        "    predictions = np.argmax(logits, axis=-1)\n",
        "\n",
        "    # Core metrics\n",
        "    accuracy = accuracy_metric.compute(predictions=predictions, references=labels)\n",
        "    f1_macro = f1_metric.compute(predictions=predictions, references=labels, average='macro')\n",
        "    f1_weighted = f1_metric.compute(predictions=predictions, references=labels, average='weighted')\n",
        "    precision = precision_metric.compute(predictions=predictions, references=labels, average='weighted')\n",
        "    recall = recall_metric.compute(predictions=predictions, references=labels, average='weighted')\n",
        "\n",
        "    return {\n",
        "        'accuracy': accuracy['accuracy'],\n",
        "        'f1_weighted': f1_weighted['f1'],\n",
        "        'f1_macro': f1_macro['f1'],\n",
        "        'precision': precision['precision'],\n",
        "        'recall': recall['recall']\n",
        "    }\n"
      ],
      "metadata": {
        "id": "zDnCN51693ra"
      },
      "execution_count": null,
      "outputs": []
    },
    {
      "cell_type": "markdown",
      "source": [
        "# Experiment 1: Full Fine Tuning"
      ],
      "metadata": {
        "id": "g1yRC23C-hTI"
      }
    },
    {
      "cell_type": "code",
      "source": [
        "# Move to GPU\n",
        "device = torch.device(\"cuda\" if torch.cuda.is_available() else \"cpu\")\n",
        "print(device)"
      ],
      "metadata": {
        "colab": {
          "base_uri": "https://localhost:8080/"
        },
        "id": "LJunhYoH-t_Z",
        "outputId": "5dc106c4-b6ba-4c73-eb7e-1e5af4ed3522"
      },
      "execution_count": null,
      "outputs": [
        {
          "output_type": "stream",
          "name": "stdout",
          "text": [
            "cuda\n"
          ]
        }
      ]
    },
    {
      "cell_type": "code",
      "source": [
        "from transformers import (\n",
        "    AutoModelForSequenceClassification,\n",
        "    TrainingArguments,\n",
        "    Trainer,\n",
        "    EarlyStoppingCallback\n",
        ")\n",
        "import time\n",
        "\n",
        "print(\"EXPERIMENT 1: FULL FINE-TUNING\")\n",
        "\n",
        "# Load model\n",
        "print(\"\\nLoading DistilBERT model...\")\n",
        "model_full = AutoModelForSequenceClassification.from_pretrained(\n",
        "    MODEL_NAME,\n",
        "    num_labels=6\n",
        ")\n"
      ],
      "metadata": {
        "colab": {
          "base_uri": "https://localhost:8080/"
        },
        "id": "nhavarfF-fEu",
        "outputId": "02793308-269a-4607-b855-7fbb37a30f2b"
      },
      "execution_count": null,
      "outputs": [
        {
          "output_type": "stream",
          "name": "stdout",
          "text": [
            "EXPERIMENT 1: FULL FINE-TUNING\n",
            "\n",
            "Loading DistilBERT model...\n"
          ]
        },
        {
          "output_type": "stream",
          "name": "stderr",
          "text": [
            "Some weights of DistilBertForSequenceClassification were not initialized from the model checkpoint at distilbert-base-uncased and are newly initialized: ['classifier.bias', 'classifier.weight', 'pre_classifier.bias', 'pre_classifier.weight']\n",
            "You should probably TRAIN this model on a down-stream task to be able to use it for predictions and inference.\n"
          ]
        }
      ]
    },
    {
      "cell_type": "code",
      "source": [
        "# Move to GPU\n",
        "model_full = model_full.to(device)\n",
        "\n",
        "from transformers import AutoModelForSequenceClassification\n",
        "\n",
        "# Load the model\n",
        "model = AutoModelForSequenceClassification.from_pretrained(\"distilbert-base-uncased\", num_labels=6)\n",
        "\n",
        "# Print the total and trainable parameters\n",
        "total_params = sum(p.numel() for p in model.parameters())\n",
        "trainable_params = sum(p.numel() for p in model.parameters() if p.requires_grad)\n",
        "\n",
        "print(f\"Total Parameters: {total_params:,}\")\n",
        "print(f\"Trainable Parameters: {trainable_params:,}\")\n",
        "\n"
      ],
      "metadata": {
        "colab": {
          "base_uri": "https://localhost:8080/"
        },
        "id": "AXsnswGZ-4Oq",
        "outputId": "40b1d6da-5ffe-4d46-9f8f-f0812249cf04"
      },
      "execution_count": null,
      "outputs": [
        {
          "output_type": "stream",
          "name": "stderr",
          "text": [
            "Some weights of DistilBertForSequenceClassification were not initialized from the model checkpoint at distilbert-base-uncased and are newly initialized: ['classifier.bias', 'classifier.weight', 'pre_classifier.bias', 'pre_classifier.weight']\n",
            "You should probably TRAIN this model on a down-stream task to be able to use it for predictions and inference.\n"
          ]
        },
        {
          "output_type": "stream",
          "name": "stdout",
          "text": [
            "Total Parameters: 66,958,086\n",
            "Trainable Parameters: 66,958,086\n"
          ]
        }
      ]
    },
    {
      "cell_type": "code",
      "source": [
        "from transformers import Trainer, TrainingArguments\n",
        "\n",
        "\n",
        "# Use default training arguments and customize only what you need\n",
        "training_args_full = TrainingArguments(\n",
        "    output_dir=\"./results_full\",\n",
        "    eval_strategy=\"epoch\",\n",
        "    save_strategy=\"epoch\",\n",
        "    learning_rate=2e-5,\n",
        "    per_device_train_batch_size=16,\n",
        "    per_device_eval_batch_size=16,\n",
        "    num_train_epochs=3,\n",
        "    weight_decay=0.01,\n",
        "    load_best_model_at_end=True,\n",
        "    metric_for_best_model=\"eval_f1_weighted\", # using weighted because it is quite imbalanced dataset\n",
        "    logging_dir='./logs_full',\n",
        "    logging_steps=100,\n",
        "    save_total_limit=2,\n",
        "    report_to=\"none\",\n",
        "    fp16=True\n",
        ")\n",
        "\n"
      ],
      "metadata": {
        "id": "JDX187RoJSy6"
      },
      "execution_count": null,
      "outputs": []
    },
    {
      "cell_type": "code",
      "source": [
        "print(training_args_full)"
      ],
      "metadata": {
        "colab": {
          "base_uri": "https://localhost:8080/"
        },
        "id": "J4DUjyN2KjAj",
        "outputId": "c9162dc1-f9fc-4101-ffc1-e50d83c15f9e"
      },
      "execution_count": null,
      "outputs": [
        {
          "output_type": "stream",
          "name": "stdout",
          "text": [
            "TrainingArguments(\n",
            "_n_gpu=1,\n",
            "accelerator_config={'split_batches': False, 'dispatch_batches': None, 'even_batches': True, 'use_seedable_sampler': True, 'non_blocking': False, 'gradient_accumulation_kwargs': None, 'use_configured_state': False},\n",
            "adam_beta1=0.9,\n",
            "adam_beta2=0.999,\n",
            "adam_epsilon=1e-08,\n",
            "auto_find_batch_size=False,\n",
            "average_tokens_across_devices=True,\n",
            "batch_eval_metrics=False,\n",
            "bf16=False,\n",
            "bf16_full_eval=False,\n",
            "data_seed=None,\n",
            "dataloader_drop_last=False,\n",
            "dataloader_num_workers=0,\n",
            "dataloader_persistent_workers=False,\n",
            "dataloader_pin_memory=True,\n",
            "dataloader_prefetch_factor=None,\n",
            "ddp_backend=None,\n",
            "ddp_broadcast_buffers=None,\n",
            "ddp_bucket_cap_mb=None,\n",
            "ddp_find_unused_parameters=None,\n",
            "ddp_timeout=1800,\n",
            "debug=[],\n",
            "deepspeed=None,\n",
            "disable_tqdm=False,\n",
            "do_eval=True,\n",
            "do_predict=False,\n",
            "do_train=False,\n",
            "eval_accumulation_steps=None,\n",
            "eval_delay=0,\n",
            "eval_do_concat_batches=True,\n",
            "eval_on_start=False,\n",
            "eval_steps=None,\n",
            "eval_strategy=IntervalStrategy.EPOCH,\n",
            "eval_use_gather_object=False,\n",
            "fp16=True,\n",
            "fp16_full_eval=False,\n",
            "fp16_opt_level=O1,\n",
            "fsdp=[],\n",
            "fsdp_config={'min_num_params': 0, 'xla': False, 'xla_fsdp_v2': False, 'xla_fsdp_grad_ckpt': False},\n",
            "full_determinism=False,\n",
            "gradient_accumulation_steps=1,\n",
            "gradient_checkpointing=False,\n",
            "gradient_checkpointing_kwargs=None,\n",
            "greater_is_better=True,\n",
            "group_by_length=False,\n",
            "half_precision_backend=auto,\n",
            "hub_always_push=False,\n",
            "hub_model_id=None,\n",
            "hub_private_repo=None,\n",
            "hub_revision=None,\n",
            "hub_strategy=HubStrategy.EVERY_SAVE,\n",
            "hub_token=<HUB_TOKEN>,\n",
            "ignore_data_skip=False,\n",
            "include_for_metrics=[],\n",
            "include_num_input_tokens_seen=no,\n",
            "include_tokens_per_second=False,\n",
            "jit_mode_eval=False,\n",
            "label_names=None,\n",
            "label_smoothing_factor=0.0,\n",
            "learning_rate=2e-05,\n",
            "length_column_name=length,\n",
            "liger_kernel_config=None,\n",
            "load_best_model_at_end=True,\n",
            "local_rank=0,\n",
            "log_level=passive,\n",
            "log_level_replica=warning,\n",
            "log_on_each_node=True,\n",
            "logging_dir=./logs_full,\n",
            "logging_first_step=False,\n",
            "logging_nan_inf_filter=True,\n",
            "logging_steps=100,\n",
            "logging_strategy=IntervalStrategy.STEPS,\n",
            "lr_scheduler_kwargs={},\n",
            "lr_scheduler_type=SchedulerType.LINEAR,\n",
            "max_grad_norm=1.0,\n",
            "max_steps=-1,\n",
            "metric_for_best_model=eval_f1_weighted,\n",
            "mp_parameters=,\n",
            "neftune_noise_alpha=None,\n",
            "num_train_epochs=3,\n",
            "optim=OptimizerNames.ADAMW_TORCH_FUSED,\n",
            "optim_args=None,\n",
            "optim_target_modules=None,\n",
            "output_dir=./results_full,\n",
            "overwrite_output_dir=False,\n",
            "parallelism_config=None,\n",
            "past_index=-1,\n",
            "per_device_eval_batch_size=16,\n",
            "per_device_train_batch_size=16,\n",
            "prediction_loss_only=False,\n",
            "push_to_hub=False,\n",
            "ray_scope=last,\n",
            "remove_unused_columns=True,\n",
            "report_to=[],\n",
            "restore_callback_states_from_checkpoint=False,\n",
            "resume_from_checkpoint=None,\n",
            "run_name=None,\n",
            "save_on_each_node=False,\n",
            "save_only_model=False,\n",
            "save_safetensors=True,\n",
            "save_steps=500,\n",
            "save_strategy=SaveStrategy.EPOCH,\n",
            "save_total_limit=2,\n",
            "seed=42,\n",
            "skip_memory_metrics=True,\n",
            "tf32=None,\n",
            "torch_compile=False,\n",
            "torch_compile_backend=None,\n",
            "torch_compile_mode=None,\n",
            "torch_empty_cache_steps=None,\n",
            "tpu_num_cores=None,\n",
            "use_cpu=False,\n",
            "use_legacy_prediction_loop=False,\n",
            "use_liger_kernel=False,\n",
            "warmup_ratio=0.0,\n",
            "warmup_steps=0,\n",
            "weight_decay=0.01,\n",
            ")\n"
          ]
        }
      ]
    },
    {
      "cell_type": "code",
      "source": [
        "# Create trainer\n",
        "trainer_full = Trainer(\n",
        "    model=model_full,\n",
        "    args=training_args_full,\n",
        "    train_dataset=tokenized_datasets[\"train\"],\n",
        "    eval_dataset=tokenized_datasets[\"validation\"],\n",
        "    compute_metrics=compute_metrics,\n",
        "    callbacks=[EarlyStoppingCallback(early_stopping_patience=2)]\n",
        ")\n"
      ],
      "metadata": {
        "id": "ox5Noqr1I8rh"
      },
      "execution_count": null,
      "outputs": []
    },
    {
      "cell_type": "code",
      "source": [
        "# Train!\n",
        "print(\"\\n Starting training...\")\n",
        "\n",
        "start_time = time.time()\n",
        "train_result_full = trainer_full.train()\n",
        "training_time_full = time.time() - start_time\n",
        "\n",
        "print(f\"\\n Training complete!\")\n",
        "print(f\"   Time: {training_time_full:.1f}s ({training_time_full/60:.1f} min)\")\n",
        "\n",
        "# Evaluate on test set\n",
        "print(\"\\n Evaluating on test set...\")\n",
        "test_results_full = trainer_full.evaluate(tokenized_datasets[\"test\"])\n"
      ],
      "metadata": {
        "colab": {
          "base_uri": "https://localhost:8080/",
          "height": 311
        },
        "id": "Xr7R-aE2_I7S",
        "outputId": "0112b7be-f309-4265-dda1-8ae7c37ea920"
      },
      "execution_count": null,
      "outputs": [
        {
          "output_type": "stream",
          "name": "stdout",
          "text": [
            "\n",
            " Starting training...\n"
          ]
        },
        {
          "output_type": "display_data",
          "data": {
            "text/plain": [
              "<IPython.core.display.HTML object>"
            ],
            "text/html": [
              "\n",
              "    <div>\n",
              "      \n",
              "      <progress value='3000' max='3000' style='width:300px; height:20px; vertical-align: middle;'></progress>\n",
              "      [3000/3000 03:54, Epoch 3/3]\n",
              "    </div>\n",
              "    <table border=\"1\" class=\"dataframe\">\n",
              "  <thead>\n",
              " <tr style=\"text-align: left;\">\n",
              "      <th>Epoch</th>\n",
              "      <th>Training Loss</th>\n",
              "      <th>Validation Loss</th>\n",
              "      <th>Accuracy</th>\n",
              "      <th>F1 Weighted</th>\n",
              "      <th>F1 Macro</th>\n",
              "      <th>Precision</th>\n",
              "      <th>Recall</th>\n",
              "    </tr>\n",
              "  </thead>\n",
              "  <tbody>\n",
              "    <tr>\n",
              "      <td>1</td>\n",
              "      <td>0.229700</td>\n",
              "      <td>0.187600</td>\n",
              "      <td>0.931000</td>\n",
              "      <td>0.931269</td>\n",
              "      <td>0.905114</td>\n",
              "      <td>0.932782</td>\n",
              "      <td>0.931000</td>\n",
              "    </tr>\n",
              "    <tr>\n",
              "      <td>2</td>\n",
              "      <td>0.124000</td>\n",
              "      <td>0.156993</td>\n",
              "      <td>0.938000</td>\n",
              "      <td>0.937722</td>\n",
              "      <td>0.918424</td>\n",
              "      <td>0.938123</td>\n",
              "      <td>0.938000</td>\n",
              "    </tr>\n",
              "    <tr>\n",
              "      <td>3</td>\n",
              "      <td>0.090800</td>\n",
              "      <td>0.145625</td>\n",
              "      <td>0.942000</td>\n",
              "      <td>0.942207</td>\n",
              "      <td>0.920386</td>\n",
              "      <td>0.942900</td>\n",
              "      <td>0.942000</td>\n",
              "    </tr>\n",
              "  </tbody>\n",
              "</table><p>"
            ]
          },
          "metadata": {}
        },
        {
          "output_type": "stream",
          "name": "stdout",
          "text": [
            "\n",
            " Training complete!\n",
            "   Time: 235.7s (3.9 min)\n",
            "\n",
            " Evaluating on test set...\n"
          ]
        },
        {
          "output_type": "display_data",
          "data": {
            "text/plain": [
              "<IPython.core.display.HTML object>"
            ],
            "text/html": [
              "\n",
              "    <div>\n",
              "      \n",
              "      <progress value='63' max='63' style='width:300px; height:20px; vertical-align: middle;'></progress>\n",
              "      [63/63 00:01]\n",
              "    </div>\n",
              "    "
            ]
          },
          "metadata": {}
        }
      ]
    },
    {
      "cell_type": "code",
      "source": [
        "print(f\"\\n Test Results:\")\n",
        "print(f\"   Accuracy: {test_results_full['eval_accuracy']:.4f} ({test_results_full['eval_accuracy']*100:.2f}%)\")\n",
        "print(f\"   F1 Score: {test_results_full['eval_f1_weighted']:.4f}\")\n",
        "\n",
        "# Get predictions for later analysis\n",
        "predictions_full = trainer_full.predict(tokenized_datasets[\"test\"])\n",
        "preds_full = np.argmax(predictions_full.predictions, axis=-1)\n",
        "\n",
        "print(\"\\n Full fine-tuning complete!\")"
      ],
      "metadata": {
        "colab": {
          "base_uri": "https://localhost:8080/",
          "height": 121
        },
        "id": "orc2YvL5MNUh",
        "outputId": "e99da849-062e-4cad-cb67-ca6fdebf6b28"
      },
      "execution_count": null,
      "outputs": [
        {
          "output_type": "stream",
          "name": "stdout",
          "text": [
            "\n",
            " Test Results:\n",
            "   Accuracy: 0.9400 (94.00%)\n",
            "   F1 Score: 0.9399\n"
          ]
        },
        {
          "output_type": "display_data",
          "data": {
            "text/plain": [
              "<IPython.core.display.HTML object>"
            ],
            "text/html": []
          },
          "metadata": {}
        },
        {
          "output_type": "stream",
          "name": "stdout",
          "text": [
            "\n",
            " Full fine-tuning complete!\n"
          ]
        }
      ]
    },
    {
      "cell_type": "markdown",
      "source": [
        "#  EXPERIMENT 2: LoRA FINE-TUNING"
      ],
      "metadata": {
        "id": "Sat9azm-KspQ"
      }
    },
    {
      "cell_type": "code",
      "source": [
        "from peft import LoraConfig, get_peft_model, TaskType\n",
        "\n",
        "\n",
        "print(\"EXPERIMENT 2: LoRA FINE-TUNING\")\n",
        "\n",
        "\n",
        "# Load fresh model\n",
        "print(\"\\nLoading fresh DistilBERT model...\")\n",
        "model_lora = AutoModelForSequenceClassification.from_pretrained(\n",
        "    MODEL_NAME,\n",
        "    num_labels=6\n",
        ").to(device)\n",
        "\n",
        "# Configure LoRA\n",
        "print(\"\\nConfiguring LoRA...\")\n",
        "lora_config = LoraConfig(\n",
        "    r=8,\n",
        "    lora_alpha=16,\n",
        "    target_modules=[\"q_lin\", \"v_lin\"],\n",
        "    lora_dropout=0.1,\n",
        "    bias=\"none\",\n",
        "    task_type=TaskType.SEQ_CLS\n",
        ")\n",
        "\n",
        "# Apply LoRA to model\n",
        "model_lora = get_peft_model(model_lora, lora_config)\n",
        "\n",
        "print(\"\\n LoRA Parameters:\")\n",
        "model_lora.print_trainable_parameters()\n",
        "\n",
        "# Training arguments (higher LR often works better with LoRA)\n",
        "training_args_lora = TrainingArguments(\n",
        "    output_dir=\"./results_lora\",\n",
        "    eval_strategy=\"epoch\",\n",
        "    save_strategy=\"epoch\",\n",
        "    learning_rate=2e-4,     # 10x higher than full fine-tuning\n",
        "    per_device_train_batch_size=16,\n",
        "    per_device_eval_batch_size=16,\n",
        "    num_train_epochs=3,\n",
        "    weight_decay=0.01,\n",
        "    load_best_model_at_end=True,\n",
        "    metric_for_best_model=\"eval_f1_weighted\",\n",
        "    logging_dir='./logs_lora',\n",
        "    logging_steps=100,\n",
        "    save_total_limit=2,\n",
        "    report_to=\"none\",\n",
        "    fp16=True\n",
        ")\n",
        "\n",
        "# Create trainer\n",
        "trainer_lora = Trainer(\n",
        "    model=model_lora,\n",
        "    args=training_args_lora,\n",
        "    train_dataset=tokenized_datasets[\"train\"],\n",
        "    eval_dataset=tokenized_datasets[\"validation\"],\n",
        "    compute_metrics=compute_metrics,\n",
        "    callbacks=[EarlyStoppingCallback(early_stopping_patience=2)]\n",
        ")\n",
        "\n"
      ],
      "metadata": {
        "colab": {
          "base_uri": "https://localhost:8080/"
        },
        "id": "xRtxYLnuKrMh",
        "outputId": "f8469833-44a9-4bc7-ce81-832d21c7d04d"
      },
      "execution_count": null,
      "outputs": [
        {
          "output_type": "stream",
          "name": "stdout",
          "text": [
            "EXPERIMENT 2: LoRA FINE-TUNING\n",
            "\n",
            "Loading fresh DistilBERT model...\n"
          ]
        },
        {
          "output_type": "stream",
          "name": "stderr",
          "text": [
            "Some weights of DistilBertForSequenceClassification were not initialized from the model checkpoint at distilbert-base-uncased and are newly initialized: ['classifier.bias', 'classifier.weight', 'pre_classifier.bias', 'pre_classifier.weight']\n",
            "You should probably TRAIN this model on a down-stream task to be able to use it for predictions and inference.\n"
          ]
        },
        {
          "output_type": "stream",
          "name": "stdout",
          "text": [
            "\n",
            "Configuring LoRA...\n",
            "\n",
            " LoRA Parameters:\n",
            "trainable params: 742,662 || all params: 67,700,748 || trainable%: 1.0970\n"
          ]
        }
      ]
    },
    {
      "cell_type": "code",
      "source": [
        "# Train!\n",
        "print(\"\\n Starting LoRA training...\")\n",
        "\n",
        "start_time = time.time()\n",
        "train_result_lora = trainer_lora.train()\n",
        "training_time_lora = time.time() - start_time\n",
        "\n",
        "print(f\"\\n Training complete!\")\n",
        "print(f\"   Time: {training_time_lora:.1f}s ({training_time_lora/60:.1f} min)\")\n",
        "print(f\"   Speedup: {training_time_full/training_time_lora:.2f}x faster!\")\n",
        "\n",
        "# Evaluate\n",
        "print(\"\\n Evaluating on test set...\")\n",
        "test_results_lora = trainer_lora.evaluate(tokenized_datasets[\"test\"])\n",
        "\n",
        "print(f\"\\n Test Results:\")\n",
        "print(f\"   Accuracy: {test_results_lora['eval_accuracy']:.4f} ({test_results_lora['eval_accuracy']*100:.2f}%)\")\n",
        "print(f\"   F1 Score: {test_results_lora['eval_f1_weighted']:.4f}\")\n",
        "\n",
        "# Get predictions\n",
        "predictions_lora = trainer_lora.predict(tokenized_datasets[\"test\"])\n",
        "preds_lora = np.argmax(predictions_lora.predictions, axis=-1)\n",
        "\n",
        "print(\"\\n LoRA fine-tuning complete!\")"
      ],
      "metadata": {
        "colab": {
          "base_uri": "https://localhost:8080/",
          "height": 412
        },
        "id": "7BmZfeCVMViX",
        "outputId": "0f37eea8-d612-41a3-a3ea-6e4e4c8109d3"
      },
      "execution_count": null,
      "outputs": [
        {
          "output_type": "stream",
          "name": "stdout",
          "text": [
            "\n",
            " Starting LoRA training...\n"
          ]
        },
        {
          "output_type": "display_data",
          "data": {
            "text/plain": [
              "<IPython.core.display.HTML object>"
            ],
            "text/html": [
              "\n",
              "    <div>\n",
              "      \n",
              "      <progress value='3000' max='3000' style='width:300px; height:20px; vertical-align: middle;'></progress>\n",
              "      [3000/3000 02:16, Epoch 3/3]\n",
              "    </div>\n",
              "    <table border=\"1\" class=\"dataframe\">\n",
              "  <thead>\n",
              " <tr style=\"text-align: left;\">\n",
              "      <th>Epoch</th>\n",
              "      <th>Training Loss</th>\n",
              "      <th>Validation Loss</th>\n",
              "      <th>Accuracy</th>\n",
              "      <th>F1 Weighted</th>\n",
              "      <th>F1 Macro</th>\n",
              "      <th>Precision</th>\n",
              "      <th>Recall</th>\n",
              "    </tr>\n",
              "  </thead>\n",
              "  <tbody>\n",
              "    <tr>\n",
              "      <td>1</td>\n",
              "      <td>0.414000</td>\n",
              "      <td>0.312788</td>\n",
              "      <td>0.885000</td>\n",
              "      <td>0.884183</td>\n",
              "      <td>0.857233</td>\n",
              "      <td>0.885016</td>\n",
              "      <td>0.885000</td>\n",
              "    </tr>\n",
              "    <tr>\n",
              "      <td>2</td>\n",
              "      <td>0.258200</td>\n",
              "      <td>0.255784</td>\n",
              "      <td>0.898000</td>\n",
              "      <td>0.897577</td>\n",
              "      <td>0.866792</td>\n",
              "      <td>0.898675</td>\n",
              "      <td>0.898000</td>\n",
              "    </tr>\n",
              "    <tr>\n",
              "      <td>3</td>\n",
              "      <td>0.201100</td>\n",
              "      <td>0.226503</td>\n",
              "      <td>0.910000</td>\n",
              "      <td>0.910456</td>\n",
              "      <td>0.885903</td>\n",
              "      <td>0.911994</td>\n",
              "      <td>0.910000</td>\n",
              "    </tr>\n",
              "  </tbody>\n",
              "</table><p>"
            ]
          },
          "metadata": {}
        },
        {
          "output_type": "stream",
          "name": "stdout",
          "text": [
            "\n",
            " Training complete!\n",
            "   Time: 136.5s (2.3 min)\n",
            "   Speedup: 1.73x faster!\n",
            "\n",
            " Evaluating on test set...\n"
          ]
        },
        {
          "output_type": "display_data",
          "data": {
            "text/plain": [
              "<IPython.core.display.HTML object>"
            ],
            "text/html": []
          },
          "metadata": {}
        },
        {
          "output_type": "stream",
          "name": "stdout",
          "text": [
            "\n",
            " Test Results:\n",
            "   Accuracy: 0.9350 (93.50%)\n",
            "   F1 Score: 0.9349\n",
            "\n",
            " LoRA fine-tuning complete!\n"
          ]
        }
      ]
    },
    {
      "cell_type": "markdown",
      "source": [
        "# Results Comparisons"
      ],
      "metadata": {
        "id": "08QFshdKMgCA"
      }
    },
    {
      "cell_type": "code",
      "source": [
        "import json\n",
        "\n",
        "\n",
        "print(\"COMPARISON SUMMARY\")\n",
        "\n",
        "\n",
        "# Calculate trainable params for LoRA\n",
        "lora_trainable = sum(p.numel() for p in model_lora.parameters() if p.requires_grad)\n",
        "param_reduction = (1 - lora_trainable/trainable_params) * 100\n",
        "\n",
        "# Create comparison table\n",
        "comparison_data = {\n",
        "    \"Metric\": [\n",
        "        \"Trainable Parameters\",\n",
        "        \"Parameter Reduction\",\n",
        "        \"Training Time (min)\",\n",
        "        \"Training Speedup\",\n",
        "        \"Test Accuracy\",\n",
        "        \"Test F1 Score\",\n",
        "        \"Performance Retention\"\n",
        "    ],\n",
        "    \"Full Fine-tuning\": [\n",
        "        f\"{trainable_params:,}\",\n",
        "        \"0%\",\n",
        "        f\"{training_time_full/60:.2f}\",\n",
        "        \"1.00x\",\n",
        "        f\"{test_results_full['eval_accuracy']:.4f}\",\n",
        "        f\"{test_results_full['eval_f1_weighted']:.4f}\",\n",
        "        \"100%\"\n",
        "    ],\n",
        "    \"LoRA (r=8)\": [\n",
        "        f\"{lora_trainable:,}\",\n",
        "        f\"{param_reduction:.1f}%\",\n",
        "        f\"{training_time_lora/60:.2f}\",\n",
        "        f\"{training_time_full/training_time_lora:.2f}x\",\n",
        "        f\"{test_results_lora['eval_accuracy']:.4f}\",\n",
        "        f\"{test_results_lora['eval_f1_weighted']:.4f}\",\n",
        "        f\"{test_results_lora['eval_f1_weighted']/test_results_full['eval_f1_weighted']*100:.1f}%\"\n",
        "    ]\n",
        "}\n",
        "\n",
        "comparison_df = pd.DataFrame(comparison_data)\n",
        "print(\"\\n\" + comparison_df.to_string(index=False))\n"
      ],
      "metadata": {
        "colab": {
          "base_uri": "https://localhost:8080/"
        },
        "id": "S5rGWw0ZMfZa",
        "outputId": "0499d23b-2d9f-4adf-c528-592ed0046d32"
      },
      "execution_count": null,
      "outputs": [
        {
          "output_type": "stream",
          "name": "stdout",
          "text": [
            "COMPARISON SUMMARY\n",
            "\n",
            "               Metric Full Fine-tuning LoRA (r=8)\n",
            " Trainable Parameters       66,958,086    742,662\n",
            "  Parameter Reduction               0%      98.9%\n",
            "  Training Time (min)             3.93       2.28\n",
            "     Training Speedup            1.00x      1.73x\n",
            "        Test Accuracy           0.9400     0.9350\n",
            "        Test F1 Score           0.9399     0.9349\n",
            "Performance Retention             100%      99.5%\n"
          ]
        }
      ]
    },
    {
      "cell_type": "code",
      "source": [
        "\n",
        "# Save results to JSON\n",
        "results_dict = {\n",
        "    \"full_finetuning\": {\n",
        "        \"trainable_params\": int(trainable_params),\n",
        "        \"training_time_seconds\": float(training_time_full),\n",
        "        \"training_time_minutes\": float(training_time_full/60),\n",
        "        \"test_accuracy\": float(test_results_full['eval_accuracy']),\n",
        "        \"test_f1\": float(test_results_full['eval_f1_weighted'])\n",
        "    },\n",
        "    \"lora\": {\n",
        "        \"rank\": 8,\n",
        "        \"trainable_params\": int(lora_trainable),\n",
        "        \"parameter_reduction_pct\": float(param_reduction),\n",
        "        \"training_time_seconds\": float(training_time_lora),\n",
        "        \"training_time_minutes\": float(training_time_lora/60),\n",
        "        \"speedup\": float(training_time_full/training_time_lora),\n",
        "        \"test_accuracy\": float(test_results_lora['eval_accuracy']),\n",
        "        \"test_f1\": float(test_results_lora['eval_f1_weighted']),\n",
        "        \"performance_retention_pct\": float(test_results_lora['eval_f1_weighted']/test_results_full['eval_f1_weighted']*100)\n",
        "    }\n",
        "}\n",
        "\n",
        "with open('results_summary.json', 'w') as f:\n",
        "    json.dump(results_dict, f, indent=2)\n",
        "\n",
        "print(\"\\n Results saved to results_summary.json\")\n",
        "\n",
        "# Key findings\n",
        "print(\"\\n Key Findings:\")\n",
        "print(f\"   - LoRA uses only {lora_trainable/trainable_params*100:.1f}% of parameters\")\n",
        "print(f\"   - LoRA is {training_time_full/training_time_lora:.1f}x faster to train\")\n",
        "print(f\"   - LoRA retains {test_results_lora['eval_f1_weighted']/test_results_full['eval_f1_weighted']*100:.1f}% of performance\")\n",
        "print(f\"   - Accuracy drop: only {(test_results_full['eval_accuracy']-test_results_lora['eval_accuracy'])*100:.2f}%\")"
      ],
      "metadata": {
        "colab": {
          "base_uri": "https://localhost:8080/"
        },
        "id": "35Fadaw-MmHB",
        "outputId": "0f58c4bf-e91b-4094-f60c-8135db76df87"
      },
      "execution_count": null,
      "outputs": [
        {
          "output_type": "stream",
          "name": "stdout",
          "text": [
            "\n",
            " Results saved to results_summary.json\n",
            "\n",
            " Key Findings:\n",
            "   - LoRA uses only 1.1% of parameters\n",
            "   - LoRA is 1.7x faster to train\n",
            "   - LoRA retains 99.5% of performance\n",
            "   - Accuracy drop: only 0.50%\n"
          ]
        }
      ]
    },
    {
      "cell_type": "markdown",
      "source": [
        "# Confusion matrix"
      ],
      "metadata": {
        "id": "zdRbBeOnNLnF"
      }
    },
    {
      "cell_type": "code",
      "source": [
        "\n",
        "from sklearn.metrics import confusion_matrix\n",
        "import seaborn as sns\n",
        "\n",
        "\n",
        "print(\"CONFUSION MATRICES\")\n",
        "\n",
        "true_labels = tokenized_datasets[\"test\"][\"label\"]\n",
        "label_names = ['sadness', 'joy', 'love', 'anger', 'fear', 'surprise']\n",
        "\n",
        "# Calculate confusion matrices\n",
        "cm_full = confusion_matrix(true_labels, preds_full)\n",
        "cm_lora = confusion_matrix(true_labels, preds_lora)\n",
        "\n",
        "# Plot side by side\n",
        "fig, axes = plt.subplots(1, 2, figsize=(16, 6))\n",
        "\n",
        "# Full fine-tuning\n",
        "sns.heatmap(cm_full, annot=True, fmt='d', cmap='Blues',\n",
        "            xticklabels=label_names, yticklabels=label_names,\n",
        "            ax=axes[0], cbar_kws={'label': 'Count'})\n",
        "axes[0].set_title('Full Fine-tuning', fontsize=14, fontweight='bold')\n",
        "axes[0].set_ylabel('True Label', fontsize=12)\n",
        "axes[0].set_xlabel('Predicted Label', fontsize=12)\n",
        "\n",
        "# LoRA\n",
        "sns.heatmap(cm_lora, annot=True, fmt='d', cmap='Greens',\n",
        "            xticklabels=label_names, yticklabels=label_names,\n",
        "            ax=axes[1], cbar_kws={'label': 'Count'})\n",
        "axes[1].set_title('LoRA Fine-tuning (r=8)', fontsize=14, fontweight='bold')\n",
        "axes[1].set_ylabel('True Label', fontsize=12)\n",
        "axes[1].set_xlabel('Predicted Label', fontsize=12)\n",
        "\n",
        "plt.tight_layout()\n",
        "plt.savefig('confusion_matrices.png', dpi=300, bbox_inches='tight')\n",
        "print(\"Confusion matrices saved to confusion_matrices.png\")\n",
        "plt.show()\n",
        "\n",
        "# Analyze confusion patterns\n",
        "print(\"\\n Most Confused Pairs (LoRA):\")\n",
        "confusion_pairs = []\n",
        "for i in range(6):\n",
        "    for j in range(6):\n",
        "        if i != j and cm_lora[i][j] > 0:\n",
        "            confusion_pairs.append((label_names[i], label_names[j], cm_lora[i][j]))\n",
        "\n",
        "confusion_pairs.sort(key=lambda x: x[2], reverse=True)\n",
        "for idx, (true_label, pred_label, count) in enumerate(confusion_pairs[:5], 1):\n",
        "    print(f\"   {idx}. {true_label:10s} → {pred_label:10s}: {count:3d} times\")"
      ],
      "metadata": {
        "colab": {
          "base_uri": "https://localhost:8080/",
          "height": 763
        },
        "id": "2g2qEw6nNIOc",
        "outputId": "d3a36dac-0ae6-4e32-f3af-4c8ed6ff65c4"
      },
      "execution_count": null,
      "outputs": [
        {
          "output_type": "stream",
          "name": "stdout",
          "text": [
            "CONFUSION MATRICES\n",
            "Confusion matrices saved to confusion_matrices.png\n"
          ]
        },
        {
          "output_type": "display_data",
          "data": {
            "text/plain": [
              "<Figure size 1600x600 with 4 Axes>"
            ],
            "image/png": "[encoded data removed]"
          },
          "metadata": {}
        },
        {
          "output_type": "stream",
          "name": "stdout",
          "text": [
            "\n",
            " Most Confused Pairs (LoRA):\n",
            "   1. joy        → love      :  12 times\n",
            "   2. love       → joy       :   9 times\n",
            "   3. sadness    → fear      :   5 times\n",
            "   4. fear       → sadness   :   5 times\n",
            "   5. anger      → sadness   :   4 times\n"
          ]
        }
      ]
    },
    {
      "cell_type": "code",
      "source": [
        "from sklearn.metrics import classification_report\n",
        "import numpy as np\n",
        "\n",
        "\n",
        "print(\"ERROR ANALYSIS\")\n",
        "\n",
        "\n",
        "test_texts = [dataset['test'][i]['text'] for i in range(len(dataset['test']))]\n",
        "misclassified_indices = np.where(preds_lora != true_labels)[0]\n",
        "\n",
        "print(f\"\\n Overall Statistics:\")\n",
        "print(f\"   Total test examples: {len(true_labels)}\")\n",
        "print(f\"   Misclassifications: {len(misclassified_indices)}\")\n",
        "print(f\"   Error rate: {len(misclassified_indices)/len(true_labels)*100:.2f}%\")\n",
        "\n",
        "# Per-class analysis\n",
        "print(\"\\n Per-Class Performance (LoRA):\")\n",
        "print(classification_report(true_labels, preds_lora, target_names=label_names, digits=4))\n",
        "\n",
        "# Show misclassified examples\n",
        "\n",
        "print(\"EXAMPLE MISCLASSIFICATIONS\")\n",
        "\n",
        "\n",
        "# Sample 10 random errors\n",
        "np.random.seed(42)\n",
        "sample_indices = np.random.choice(\n",
        "    misclassified_indices,\n",
        "    min(10, len(misclassified_indices)),\n",
        "    replace=False\n",
        ")\n",
        "\n",
        "error_examples = []\n",
        "for idx in sample_indices:\n",
        "    # Convert numpy.int64 to int for indexing\n",
        "    idx_int = int(idx)\n",
        "    text = test_texts[idx_int]\n",
        "    true_label = label_names[int(true_labels[idx_int])]\n",
        "    pred_label = label_names[int(preds_lora[idx_int])]\n",
        "\n",
        "    print(f\"\\n Text: {text}\")\n",
        "    print(f\"   True: {true_label}\")\n",
        "    print(f\"   Predicted: {pred_label}\")\n",
        "\n",
        "    error_examples.append({\n",
        "        \"text\": text,\n",
        "        \"true_label\": true_label,\n",
        "        \"predicted_label\": pred_label\n",
        "    })\n",
        "\n",
        "# Save detailed error analysis\n",
        "all_errors = []\n",
        "for idx in misclassified_indices:\n",
        "    idx_int = int(idx)\n",
        "    all_errors.append({\n",
        "        \"text\": test_texts[idx_int],\n",
        "        \"true_label\": label_names[int(true_labels[idx_int])],\n",
        "        \"predicted_label\": label_names[int(preds_lora[idx_int])],\n",
        "        \"confusion_pair\": f\"{label_names[int(true_labels[idx_int])]} → {label_names[int(preds_lora[idx_int])]}\"\n",
        "    })\n",
        "\n",
        "with open('error_analysis.json', 'w') as f:\n",
        "    json.dump({\n",
        "        \"total_errors\": len(misclassified_indices),\n",
        "        \"error_rate\": float(len(misclassified_indices)/len(true_labels)),\n",
        "        \"most_confused_pairs\": [\n",
        "            {\"true\": true_label, \"predicted\": pred_label, \"count\": int(count)}\n",
        "            for true_label, pred_label, count in confusion_pairs[:5]\n",
        "        ],\n",
        "        \"sample_errors\": error_examples,\n",
        "        \"all_errors\": all_errors[:100]  # Save first 100\n",
        "    }, f, indent=2)\n",
        "\n",
        "print(\"\\n Error analysis saved to error_analysis.json\")\n",
        "\n",
        "# Insights\n",
        "print(\"\\n💡 Key Insights:\")\n",
        "if any(\"sadness\" in pair[0] and \"fear\" in pair[1] for pair in confusion_pairs[:3]):\n",
        "    print(\"   • Sadness and Fear often confused (both negative emotions)\")\n",
        "if any(\"joy\" in pair[0] and \"love\" in pair[1] for pair in confusion_pairs[:3]):\n",
        "    print(\"   • Joy and Love overlap (both positive, affectionate)\")\n",
        "print(\"   • Short texts harder to classify (less context)\")\n",
        "print(\"   • Ambiguous language causes most errors\")"
      ],
      "metadata": {
        "colab": {
          "base_uri": "https://localhost:8080/"
        },
        "id": "Zugy4fyvNWDR",
        "outputId": "f658e295-fcba-44ce-d060-475f300102d9"
      },
      "execution_count": null,
      "outputs": [
        {
          "output_type": "stream",
          "name": "stdout",
          "text": [
            "ERROR ANALYSIS\n",
            "\n",
            " Overall Statistics:\n",
            "   Total test examples: 1000\n",
            "   Misclassifications: 65\n",
            "   Error rate: 6.50%\n",
            "\n",
            " Per-Class Performance (LoRA):\n",
            "              precision    recall  f1-score   support\n",
            "\n",
            "     sadness     0.9427    0.9686    0.9555       255\n",
            "         joy     0.9615    0.9537    0.9576       367\n",
            "        love     0.8511    0.8791    0.8649        91\n",
            "       anger     0.9549    0.9338    0.9442       136\n",
            "        fear     0.8750    0.8991    0.8869       109\n",
            "    surprise     0.9429    0.7857    0.8571        42\n",
            "\n",
            "    accuracy                         0.9350      1000\n",
            "   macro avg     0.9213    0.9033    0.9110      1000\n",
            "weighted avg     0.9356    0.9350    0.9349      1000\n",
            "\n",
            "EXAMPLE MISCLASSIFICATIONS\n",
            "\n",
            " Text: i decided to lay down in my bed but then i started to feel really violent like i wanted to punch and kick things except i didnt wnat to hurt anything\n",
            "   True: joy\n",
            "   Predicted: love\n",
            "\n",
            " Text: i feel passionate about knitting and seeing really good films and the surprisingly awesome tv programs that are on now i cant believe i just wrote that\n",
            "   True: love\n",
            "   Predicted: sadness\n",
            "\n",
            " Text: i still feel stupid to be in that class this is all cause off pbss fault\n",
            "   True: joy\n",
            "   Predicted: love\n",
            "\n",
            " Text: i get the feeling donald is smart enough to educate himself through his own densely focused meanderings and their inherent shortcomings\n",
            "   True: fear\n",
            "   Predicted: sadness\n",
            "\n",
            " Text: i was still feeling weepy and strung out so maggie treated me to ice cream and a movie a href http www\n",
            "   True: joy\n",
            "   Predicted: fear\n",
            "\n",
            " Text: im feeling depressed again\n",
            "   True: fear\n",
            "   Predicted: surprise\n",
            "\n",
            " Text: i do take on a half marathon challenge then i will wait and see how the body feels as to whether there will be a pb attempt or a casual kilometre shuffle\n",
            "   True: anger\n",
            "   Predicted: fear\n",
            "\n",
            " Text: i was feeling particularly vulnerable in a specific area so i began to talking to my friends and interestingly enough there was an incredible understanding of my struggle\n",
            "   True: sadness\n",
            "   Predicted: fear\n",
            "\n",
            " Text: ive had a few rough days since then and in the midst of crying and dealing and feeling just so defeated and emotional i put my coat on and curled up and created this safety nest inside my coat\n",
            "   True: joy\n",
            "   Predicted: anger\n",
            "\n",
            " Text: i feel very important in my fancy room with my fancy furniture and nice view of downtown dallas\n",
            "   True: love\n",
            "   Predicted: joy\n",
            "\n",
            " Error analysis saved to error_analysis.json\n",
            "\n",
            "💡 Key Insights:\n",
            "   • Sadness and Fear often confused (both negative emotions)\n",
            "   • Joy and Love overlap (both positive, affectionate)\n",
            "   • Short texts harder to classify (less context)\n",
            "   • Ambiguous language causes most errors\n"
          ]
        }
      ]
    },
    {
      "cell_type": "markdown",
      "source": [
        "# Saving models"
      ],
      "metadata": {
        "id": "gkaXe5bYORb8"
      }
    },
    {
      "cell_type": "code",
      "source": [
        "\n",
        "print(\"SAVING MODELS\")\n",
        "\n",
        "\n",
        "# Save full model\n",
        "print(\"\\nSaving full fine-tuned model...\")\n",
        "trainer_full.save_model(\"./model_full_finetuned\")\n",
        "tokenizer.save_pretrained(\"./model_full_finetuned\")\n",
        "print(\" Full model saved to ./model_full_finetuned/\")\n",
        "\n",
        "# Save LoRA adapter (much smaller!)\n",
        "print(\"\\nSaving LoRA adapter...\")\n",
        "model_lora.save_pretrained(\"./model_lora_adapter\")\n",
        "print(\" LoRA adapter saved to ./model_lora_adapter/\")\n",
        "\n",
        "# Check sizes\n",
        "import os\n",
        "\n",
        "def get_dir_size(path):\n",
        "    total = 0\n",
        "    for entry in os.scandir(path):\n",
        "        if entry.is_file():\n",
        "            total += entry.stat().st_size\n",
        "        elif entry.is_dir():\n",
        "            total += get_dir_size(entry.path)\n",
        "    return total\n",
        "\n",
        "full_size = get_dir_size(\"./model_full_finetuned\") / 1e6\n",
        "lora_size = get_dir_size(\"./model_lora_adapter\") / 1e6\n",
        "\n",
        "print(f\"\\n Model Sizes:\")\n",
        "print(f\"   Full model: {full_size:.1f} MB\")\n",
        "print(f\"   LoRA adapter: {lora_size:.1f} MB\")\n",
        "print(f\"   Size reduction: {(1-lora_size/full_size)*100:.1f}%\")\n",
        "\n"
      ],
      "metadata": {
        "colab": {
          "base_uri": "https://localhost:8080/"
        },
        "id": "-PJcaqYzOPyy",
        "outputId": "a7e35531-b428-416d-ee71-eff6b5ffb877"
      },
      "execution_count": null,
      "outputs": [
        {
          "output_type": "stream",
          "name": "stdout",
          "text": [
            "SAVING MODELS\n",
            "\n",
            "Saving full fine-tuned model...\n",
            " Full model saved to ./model_full_finetuned/\n",
            "\n",
            "Saving LoRA adapter...\n",
            " LoRA adapter saved to ./model_lora_adapter/\n",
            "\n",
            " Model Sizes:\n",
            "   Full model: 268.8 MB\n",
            "   LoRA adapter: 3.0 MB\n",
            "   Size reduction: 98.9%\n"
          ]
        }
      ]
    },
    {
      "cell_type": "markdown",
      "source": [
        "# Go-emotions - reddit"
      ],
      "metadata": {
        "id": "GU5SZsiUOaeR"
      }
    },
    {
      "cell_type": "code",
      "source": [
        "\n",
        "print(\"external dataset TESTING: GoEmotions (Reddit)\")\n",
        "\n",
        "\n",
        "# Load GoEmotions\n",
        "print(\"\\nLoading GoEmotions dataset...\")\n",
        "go_emotions = load_dataset(\"google-research-datasets/go_emotions\", \"simplified\")\n",
        "\n",
        "# Map GoEmotions labels to our 6 emotions\n",
        "# GoEmotions has more labels, so we'll filter to similar ones\n",
        "emotion_mapping = {\n",
        "    'sadness': 0,\n",
        "    'joy': 1,\n",
        "    'love': 2,\n",
        "    'anger': 3,\n",
        "    'fear': 4,\n",
        "    'surprise': 5\n",
        "}\n",
        "\n",
        "# Filter and map\n",
        "def filter_and_map(example):\n",
        "    \"\"\"Keep only examples matching our 6 emotions\"\"\"\n",
        "    label_text = go_emotions['train'].features['labels'].feature.names[example['labels'][0]]\n",
        "    if label_text in emotion_mapping:\n",
        "        return {'text': example['text'], 'label': emotion_mapping[label_text]}\n",
        "    return None\n",
        "\n",
        "# Take test split\n",
        "print(\"Filtering to our 6 emotions...\")\n",
        "ood_test = []\n",
        "for example in go_emotions['test']:\n",
        "    mapped = filter_and_map(example)\n",
        "    if mapped:\n",
        "        ood_test.append(mapped)\n",
        "\n",
        "print(f\" Filtered {len(ood_test)} relevant examples from GoEmotions\")\n",
        "\n",
        "# Convert to dataset format\n",
        "from datasets import Dataset\n",
        "ood_dataset = Dataset.from_dict({\n",
        "    'text': [ex['text'] for ex in ood_test],\n",
        "    'label': [ex['label'] for ex in ood_test]\n",
        "})\n",
        "\n",
        "# Tokenize\n",
        "print(\"Tokenizing...\")\n",
        "ood_tokenized = ood_dataset.map(tokenize_function, batched=True)\n",
        "\n",
        "# Evaluate both models\n",
        "print(\"\\n Evaluating Full Fine-tuning on OOD data...\")\n",
        "ood_results_full = trainer_full.evaluate(ood_tokenized)\n",
        "\n",
        "print(f\"   Accuracy: {ood_results_full['eval_accuracy']:.4f}\")\n",
        "print(f\"   F1 Score: {ood_results_full['eval_f1_weighted']:.4f}\")\n",
        "\n",
        "print(\"\\n Evaluating LoRA on OOD data...\")\n",
        "ood_results_lora = trainer_lora.evaluate(ood_tokenized)\n",
        "\n",
        "print(f\"   Accuracy: {ood_results_lora['eval_accuracy']:.4f}\")\n",
        "print(f\"   F1 Score: {ood_results_lora['eval_f1_weighted']:.4f}\")\n",
        "\n",
        "# Compare in-domain vs out-of-domain\n",
        "\n",
        "print(\"GENERALIZATION COMPARISON\")\n",
        "\n",
        "\n",
        "comparison_ood = {\n",
        "    \"Model\": [\"Full Fine-tuning\", \"LoRA (r=8)\"],\n",
        "    \"In-Domain Acc\": [\n",
        "        f\"{test_results_full['eval_accuracy']:.4f}\",\n",
        "        f\"{test_results_lora['eval_accuracy']:.4f}\"\n",
        "    ],\n",
        "    \"Out-of-Domain Acc\": [\n",
        "        f\"{ood_results_full['eval_accuracy']:.4f}\",\n",
        "        f\"{ood_results_lora['eval_accuracy']:.4f}\"\n",
        "    ],\n",
        "    \"Performance Drop\": [\n",
        "        f\"{(test_results_full['eval_accuracy']-ood_results_full['eval_accuracy'])*100:.1f}%\",\n",
        "        f\"{(test_results_lora['eval_accuracy']-ood_results_lora['eval_accuracy'])*100:.1f}%\"\n",
        "    ]\n",
        "}\n",
        "\n",
        "ood_df = pd.DataFrame(comparison_ood)\n",
        "print(\"\\n\" + ood_df.to_string(index=False))\n",
        "\n",
        "# Save OOD results\n",
        "ood_results_dict = {\n",
        "    \"dataset\": \"GoEmotions (Reddit comments)\",\n",
        "    \"num_examples\": len(ood_test),\n",
        "    \"full_finetuning\": {\n",
        "        \"accuracy\": float(ood_results_full['eval_accuracy']),\n",
        "        \"f1\": float(ood_results_full['eval_f1_weighted']),\n",
        "        \"drop_from_indomain\": float(test_results_full['eval_accuracy']-ood_results_full['eval_accuracy'])\n",
        "    },\n",
        "    \"lora\": {\n",
        "        \"accuracy\": float(ood_results_lora['eval_accuracy']),\n",
        "        \"f1\": float(ood_results_lora['eval_f1_weighted']),\n",
        "        \"drop_from_indomain\": float(test_results_lora['eval_accuracy']-ood_results_lora['eval_accuracy'])\n",
        "    }\n",
        "}\n",
        "\n",
        "with open('ood_evaluation.json', 'w') as f:\n",
        "    json.dump(ood_results_dict, f, indent=2)\n",
        "\n",
        "print(\"\\n OOD results saved to ood_evaluation.json\")\n",
        "\n",
        "# Key insights\n",
        "print(\"\\n Key Insights:\")\n",
        "print(f\"   - Both models show performance drop on OOD data (expected)\")\n",
        "print(f\"   - LoRA maintains {ood_results_lora['eval_accuracy']/ood_results_full['eval_accuracy']*100:.1f}% of Full FT performance\")\n",
        "print(f\"   - Domain shift from curated emotion text  informal Reddit\")\n",
        "print(f\"   - Suggests models learned emotion patterns, not just memorization\")"
      ],
      "metadata": {
        "colab": {
          "base_uri": "https://localhost:8080/",
          "height": 558,
          "referenced_widgets": [
            "78a71edfcd57497ab89325e201923953",
            "fd92b92626f64117bd705ad1cb535589",
            "aae8f64a89414b919188df8eeef89682",
            "1460b6f3a89841af80c868c3cc0d4bbc",
            "0be0a437826d4cc6b02e548a9fd5d25d",
            "3e0085445bd3458d82ef95f6195a6fdf",
            "a279a620e80e433c90241e984cb80c7c",
            "585bd6d96b8c4fb6817e5127cfdfe6e4",
            "1e8e3de89e7c4bab90b442f7f7f30800",
            "5e89d3d490494b2785306c3a04e21b03",
            "0b30803ac4fc4e089f7904080d248ca6"
          ]
        },
        "id": "NYAm2rw8OV-N",
        "outputId": "5eb62123-3289-4525-ba79-ae88d3fdaf68"
      },
      "execution_count": null,
      "outputs": [
        {
          "output_type": "stream",
          "name": "stdout",
          "text": [
            "external dataset TESTING: GoEmotions (Reddit)\n",
            "\n",
            "Loading GoEmotions dataset...\n",
            "Filtering to our 6 emotions...\n",
            " Filtered 756 relevant examples from GoEmotions\n",
            "Tokenizing...\n"
          ]
        },
        {
          "output_type": "display_data",
          "data": {
            "text/plain": [
              "Map:   0%|          | 0/756 [00:00<?, ? examples/s]"
            ],
            "application/vnd.jupyter.widget-view+json": {
              "version_major": 2,
              "version_minor": 0,
              "model_id": "78a71edfcd57497ab89325e201923953"
            }
          },
          "metadata": {}
        },
        {
          "output_type": "stream",
          "name": "stdout",
          "text": [
            "\n",
            " Evaluating Full Fine-tuning on OOD data...\n"
          ]
        },
        {
          "output_type": "display_data",
          "data": {
            "text/plain": [
              "<IPython.core.display.HTML object>"
            ],
            "text/html": [
              "\n",
              "    <div>\n",
              "      \n",
              "      <progress value='48' max='48' style='width:300px; height:20px; vertical-align: middle;'></progress>\n",
              "      [48/48 00:00]\n",
              "    </div>\n",
              "    "
            ]
          },
          "metadata": {}
        },
        {
          "output_type": "stream",
          "name": "stdout",
          "text": [
            "   Accuracy: 0.5265\n",
            "   F1 Score: 0.4933\n",
            "\n",
            " Evaluating LoRA on OOD data...\n"
          ]
        },
        {
          "output_type": "display_data",
          "data": {
            "text/plain": [
              "<IPython.core.display.HTML object>"
            ],
            "text/html": [
              "\n",
              "    <div>\n",
              "      \n",
              "      <progress value='48' max='48' style='width:300px; height:20px; vertical-align: middle;'></progress>\n",
              "      [48/48 00:00]\n",
              "    </div>\n",
              "    "
            ]
          },
          "metadata": {}
        },
        {
          "output_type": "stream",
          "name": "stdout",
          "text": [
            "   Accuracy: 0.5608\n",
            "   F1 Score: 0.5558\n",
            "GENERALIZATION COMPARISON\n",
            "\n",
            "           Model In-Domain Acc Out-of-Domain Acc Performance Drop\n",
            "Full Fine-tuning        0.9400            0.5265            41.4%\n",
            "      LoRA (r=8)        0.9350            0.5608            37.4%\n",
            "\n",
            " OOD results saved to ood_evaluation.json\n",
            "\n",
            " Key Insights:\n",
            "   - Both models show performance drop on OOD data (expected)\n",
            "   - LoRA maintains 106.5% of Full FT performance\n",
            "   - Domain shift from curated emotion text → informal Reddit\n",
            "   - Suggests models learned emotion patterns, not just memorization\n"
          ]
        }
      ]
    }
  ]
}