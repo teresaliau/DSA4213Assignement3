{
  "nbformat": 4,
  "nbformat_minor": 0,
  "metadata": {
    "colab": {
      "provenance": [],
      "gpuType": "T4",
      "mount_file_id": "1dPEyWuCy_39AmI_BtJE4bvYtbHuLnJ9l",
      "authorship_tag": "ABX9TyMZukmwmj5MODrTT1sL4lYo",
      "include_colab_link": true
    },
    "kernelspec": {
      "name": "python3",
      "display_name": "Python 3"
    },
    "language_info": {
      "name": "python"
    },
    "accelerator": "GPU"
  },
  "cells": [
    {
      "cell_type": "markdown",
      "metadata": {
        "id": "view-in-github",
        "colab_type": "text"
      },
      "source": [
        "<a href=\"https://colab.research.google.com/github/teresaliau/DSA4213Assignement3/blob/main/Experiments%2Binteractve.ipynb\" target=\"_parent\"><img src=\"https://colab.research.google.com/assets/colab-badge.svg\" alt=\"Open In Colab\"/></a>"
      ]
    },
    {
      "cell_type": "markdown",
      "source": [
        "# Instructions\n",
        "\n",
        "1. Download the models from READme\n",
        "2. Mount your Google Drive\n",
        "3. Load models : Input your own path to model!!!\n",
        "4. Run the notebook\n",
        "5. ineteractive section at the end of the notebook\n"
      ],
      "metadata": {
        "id": "uDhieQREx_fd"
      }
    },
    {
      "cell_type": "code",
      "source": [
        "from google.colab import drive\n",
        "drive.mount('/content/drive')\n",
        "\n",
        "from transformers import AutoTokenizer, AutoModelForSequenceClassification\n",
        "import torch\n",
        "import json\n",
        "\n",
        "\n",
        "print(\"Loading tokenizer\")\n",
        "tokenizer = AutoTokenizer.from_pretrained(\"distilbert-base-uncased\")\n",
        "\n"
      ],
      "metadata": {
        "colab": {
          "base_uri": "https://localhost:8080/"
        },
        "id": "5WIzINSJtwhQ",
        "outputId": "c870bf95-6245-4ed5-e9f8-5ed4a67234c3"
      },
      "execution_count": null,
      "outputs": [
        {
          "output_type": "stream",
          "name": "stdout",
          "text": [
            "Drive already mounted at /content/drive; to attempt to forcibly remount, call drive.mount(\"/content/drive\", force_remount=True).\n",
            "Loading tokenizer\n"
          ]
        },
        {
          "output_type": "stream",
          "name": "stderr",
          "text": [
            "/usr/local/lib/python3.12/dist-packages/huggingface_hub/utils/_auth.py:94: UserWarning: \n",
            "The secret `HF_TOKEN` does not exist in your Colab secrets.\n",
            "To authenticate with the Hugging Face Hub, create a token in your settings tab (https://huggingface.co/settings/tokens), set it as secret in your Google Colab and restart your session.\n",
            "You will be able to reuse this secret in all of your notebooks.\n",
            "Please note that authentication is recommended but still optional to access public models or datasets.\n",
            "  warnings.warn(\n"
          ]
        }
      ]
    },
    {
      "cell_type": "markdown",
      "source": [
        "Input your own path to downloaded model\n"
      ],
      "metadata": {
        "id": "RUpQcfkPRSRG"
      }
    },
    {
      "cell_type": "code",
      "source": [
        "# Input your own path to the models in your google drive\n",
        "# CHANGE THIS!!\n",
        "print(\"Input your own path to model\")\n",
        "model_path_full = '/content/drive/MyDrive/DSA4213_Models/model_full_finetuned'\n",
        "model_path_lora = '/content/drive/MyDrive/DSA4213_Models/model_lora_adapter'\n",
        "\n",
        "# Load models\n",
        "model_full = AutoModelForSequenceClassification.from_pretrained(model_path_full, num_labels=6)\n",
        "model_lora = AutoModelForSequenceClassification.from_pretrained(model_path_lora, num_labels=6)"
      ],
      "metadata": {
        "colab": {
          "base_uri": "https://localhost:8080/"
        },
        "id": "w-tVoazfyeal",
        "outputId": "c83e6389-9014-4a25-a8da-763d11ccc0a0"
      },
      "execution_count": null,
      "outputs": [
        {
          "output_type": "stream",
          "name": "stdout",
          "text": [
            "Input your own path to model\n"
          ]
        },
        {
          "output_type": "stream",
          "name": "stderr",
          "text": [
            "Some weights of DistilBertForSequenceClassification were not initialized from the model checkpoint at distilbert-base-uncased and are newly initialized: ['classifier.bias', 'classifier.weight', 'pre_classifier.bias', 'pre_classifier.weight']\n",
            "You should probably TRAIN this model on a down-stream task to be able to use it for predictions and inference.\n"
          ]
        }
      ]
    },
    {
      "cell_type": "markdown",
      "source": [
        "# Sample Texts to test Models"
      ],
      "metadata": {
        "id": "a3lmXsCxy6GZ"
      }
    },
    {
      "cell_type": "code",
      "execution_count": null,
      "metadata": {
        "colab": {
          "base_uri": "https://localhost:8080/"
        },
        "id": "_HrckzS8rC0g",
        "outputId": "d83d2d10-5b17-4129-8493-b43edea0b04e"
      },
      "outputs": [
        {
          "output_type": "stream",
          "name": "stdout",
          "text": [
            "\n",
            "Testing examples:\n",
            "\n",
            " \"I'm so excited about this!\"\n",
            "────────────────────────────────────────────────────────────\n",
            "Full FT ->  JOY        (99.8%)\n",
            "LoRA    ->  JOY        (99.8%)\n",
            ":D Agree: JOY\n",
            "\n",
            " \"I feel really sad and alone\"\n",
            "────────────────────────────────────────────────────────────\n",
            "Full FT ->  SADNESS    (99.9%)\n",
            "LoRA    ->  SADNESS    (100.0%)\n",
            ":D Agree: SADNESS\n",
            "\n",
            " \"I love you so much\"\n",
            "────────────────────────────────────────────────────────────\n",
            "Full FT ->  LOVE       (92.1%)\n",
            "LoRA    ->  LOVE       (97.8%)\n",
            ":D Agree: LOVE\n",
            "\n",
            " \"This makes me so angry!\"\n",
            "────────────────────────────────────────────────────────────\n",
            "Full FT ->  ANGER      (99.8%)\n",
            "LoRA    ->  ANGER      (100.0%)\n",
            ":D Agree: ANGER\n",
            "\n",
            " \"Oh, great. Another day of happiness, just wonderful!\"\n",
            "────────────────────────────────────────────────────────────\n",
            "Full FT ->  JOY        (99.8%)\n",
            "LoRA    ->  JOY        (98.7%)\n",
            ":D Agree: JOY\n"
          ]
        }
      ],
      "source": [
        "from transformers import AutoTokenizer, AutoModelForSequenceClassification\n",
        "import torch\n",
        "import json\n",
        "\n",
        "\n",
        "\n",
        "# Set device\n",
        "device = torch.device(\"cuda\" if torch.cuda.is_available() else \"cpu\")\n",
        "model_full.to(device)\n",
        "model_lora.to(device)\n",
        "\n",
        "# Define label names\n",
        "label_names = ['sadness', 'joy', 'love', 'anger', 'fear', 'surprise']\n",
        "\n",
        "# Tokenization function\n",
        "def tokenize_function(examples):\n",
        "    return tokenizer(\n",
        "        examples[\"text\"],\n",
        "        padding=\"max_length\",\n",
        "        truncation=True,\n",
        "        max_length=128\n",
        "    )\n",
        "\n",
        "\n",
        "# Prediction function\n",
        "def predict_emotion(text):\n",
        "    inputs = tokenizer(text, return_tensors=\"pt\", truncation=True, max_length=128, padding=True)\n",
        "    inputs = {k: v.to(device) for k, v in inputs.items()}\n",
        "\n",
        "    # Full FT prediction\n",
        "    model_full.eval()\n",
        "    with torch.no_grad():\n",
        "        outputs_full = model_full(**inputs)\n",
        "        probs_full = torch.nn.functional.softmax(outputs_full.logits, dim=-1)[0]\n",
        "        pred_full = torch.argmax(probs_full).item()\n",
        "\n",
        "    # LoRA prediction\n",
        "    model_lora.eval()\n",
        "    with torch.no_grad():\n",
        "        outputs_lora = model_lora(**inputs)\n",
        "        probs_lora = torch.nn.functional.softmax(outputs_lora.logits, dim=-1)[0]\n",
        "        pred_lora = torch.argmax(probs_lora).item()\n",
        "\n",
        "    # Display results and compare predictions\n",
        "    print(f\"\\n \\\"{text}\\\"\")\n",
        "    print(f\"{'─'*60}\")\n",
        "    print(f\"Full FT ->  {label_names[pred_full].upper():10s} ({probs_full[pred_full]*100:.1f}%)\")\n",
        "    print(f\"LoRA    ->  {label_names[pred_lora].upper():10s} ({probs_lora[pred_lora]*100:.1f}%)\")\n",
        "\n",
        "    if pred_full == pred_lora:\n",
        "        print(f\":D Agree: {label_names[pred_full].upper()}\")\n",
        "    else:\n",
        "        print(f\":( Disagree! {label_names[pred_full].upper()} vs {label_names[pred_lora].upper()}\")\n",
        "\n",
        "    return {\n",
        "        'text': text,\n",
        "        'full_ft': label_names[pred_full],\n",
        "        'full_conf': float(probs_full[pred_full]),\n",
        "        'lora': label_names[pred_lora],\n",
        "        'lora_conf': float(probs_lora[pred_lora]),\n",
        "        'agree': pred_full == pred_lora\n",
        "    }\n",
        "\n",
        "# Test examples\n",
        "examples = [\n",
        "    \"I'm so excited about this!\",\n",
        "    \"I feel really sad and alone\",\n",
        "    \"I love you so much\",\n",
        "    \"This makes me so angry!\",\n",
        "    \"Oh, great. Another day of happiness, just wonderful!\"\n",
        "]\n",
        "\n",
        "print(\"\\nTesting examples:\")\n",
        "for ex in examples:\n",
        "    predict_emotion(ex)\n",
        "\n"
      ]
    },
    {
      "cell_type": "markdown",
      "source": [
        "# Experimenting on textx that are longer"
      ],
      "metadata": {
        "id": "MK7YVEfYzDmh"
      }
    },
    {
      "cell_type": "code",
      "source": [
        "# Test examples\n",
        "longexamples = [\n",
        "    \"I have been waiting for this moment for months, and now it is finally here! I cannot contain my excitement—everything just seems so perfect right now. I feel like I am on top of the world, and nothing could ruin my mood. The energy in the air is electrifying, and I cannot wait to see what happens next!\",\n",
        "    \"Today, I had such a busy day at my internship. Work is piling up and I feel very anxious. Not to mention, there are so many upcoming examinations for school and I feel extremely unprepared. I have a vacation which I am really excited for and is looking forward to, however, it feels like the vacation is so far away. I am so close yet so far to the end of this semester. I feel like my health is declining. I will be really happy once I can catch a break.\",\n",
        "    \"Last night, as I was lying in bed, I started thinking about the upcoming presentation at work. The anxiety hit me like a wave, and I couldn’t shake the feeling that something would go horribly wrong. I started imagining all the worst-case scenarios: forgetting my lines, technical difficulties, or worst of all, having people laugh at my ideas. The more I thought about it, the more nervous I became. My heart started racing, my palms got sweaty, and it felt like I couldn’t breathe properly. Even though I tried to calm myself down, the fear kept growing. It’s not the first time I’ve felt this way before a big event, but it never gets easier. I kept telling myself that everything would be fine, but the fear still wouldn’t let go.\",\n",
        "    \"yesterday was one of those rare days where everything felt like they all fell into place. I woke up early and felt major gratitude for everything I have been blessed with. For the first time in a long while, I felt completely at peace.There was a lightness in the air, a sense of freedom that I haven’t felt in a long time. By the time I got home, I had this warm feeling in my chest, like everything was right in the world. I took in the world around me and it felt like nothing in this world can bring me down. I was present in the moment and took a deep breathe, taking time to savour and smell the roses and the fresh air around me. It felt like the sky was so clear, my skin was glowing, the weather was not too cold, not too humid\"\n",
        "]\n",
        "\n",
        "print(\"\\nTesting examples:\")\n",
        "for ex in longexamples:\n",
        "    predict_emotion(ex)\n"
      ],
      "metadata": {
        "id": "sjFHBwl8zC9U",
        "colab": {
          "base_uri": "https://localhost:8080/"
        },
        "outputId": "b84983d8-be6c-4a4d-8298-3306cdbac4bd"
      },
      "execution_count": null,
      "outputs": [
        {
          "output_type": "stream",
          "name": "stdout",
          "text": [
            "\n",
            "Testing examples:\n",
            "\n",
            " \"I have been waiting for this moment for months, and now it is finally here! I cannot contain my excitement—everything just seems so perfect right now. I feel like I am on top of the world, and nothing could ruin my mood. The energy in the air is electrifying, and I cannot wait to see what happens next!\"\n",
            "────────────────────────────────────────────────────────────\n",
            "Full FT ->  JOY        (99.9%)\n",
            "LoRA    ->  JOY        (99.4%)\n",
            ":D Agree: JOY\n",
            "\n",
            " \"Today, I had such a busy day at my internship. Work is piling up and I feel very anxious. Not to mention, there are so many upcoming examinations for school and I feel extremely unprepared. I have a vacation which I am really excited for and is looking forward to, however, it feels like the vacation is so far away. I am so close yet so far to the end of this semester. I feel like my health is declining. I will be really happy once I can catch a break.\"\n",
            "────────────────────────────────────────────────────────────\n",
            "Full FT ->  FEAR       (99.8%)\n",
            "LoRA    ->  FEAR       (98.9%)\n",
            ":D Agree: FEAR\n",
            "\n",
            " \"Last night, as I was lying in bed, I started thinking about the upcoming presentation at work. The anxiety hit me like a wave, and I couldn’t shake the feeling that something would go horribly wrong. I started imagining all the worst-case scenarios: forgetting my lines, technical difficulties, or worst of all, having people laugh at my ideas. The more I thought about it, the more nervous I became. My heart started racing, my palms got sweaty, and it felt like I couldn’t breathe properly. Even though I tried to calm myself down, the fear kept growing. It’s not the first time I’ve felt this way before a big event, but it never gets easier. I kept telling myself that everything would be fine, but the fear still wouldn’t let go.\"\n",
            "────────────────────────────────────────────────────────────\n",
            "Full FT ->  SADNESS    (52.7%)\n",
            "LoRA    ->  FEAR       (96.5%)\n",
            ":( Disagree! SADNESS vs FEAR\n",
            "\n",
            " \"yesterday was one of those rare days where everything felt like they all fell into place. I woke up early and felt major gratitude for everything I have been blessed with. For the first time in a long while, I felt completely at peace.There was a lightness in the air, a sense of freedom that I haven’t felt in a long time. By the time I got home, I had this warm feeling in my chest, like everything was right in the world. I took in the world around me and it felt like nothing in this world can bring me down. I was present in the moment and took a deep breathe, taking time to savour and smell the roses and the fresh air around me. It felt like the sky was so clear, my skin was glowing, the weather was not too cold, not too humid\"\n",
            "────────────────────────────────────────────────────────────\n",
            "Full FT ->  LOVE       (71.1%)\n",
            "LoRA    ->  JOY        (78.2%)\n",
            ":( Disagree! LOVE vs JOY\n"
          ]
        }
      ]
    },
    {
      "cell_type": "markdown",
      "source": [
        "# Examples with multiple emotion keywords (eg. yesterday i was fustrated but today I am happy)"
      ],
      "metadata": {
        "id": "BK5LMgEYVsHO"
      }
    },
    {
      "cell_type": "code",
      "source": [
        "contradictingexamples = [\n",
        "  \"Yesterday, I was overjoyed about my promotion at work, but my excitement quickly turned to frustration when I found out that I had to handle more responsibility without any additional support from the team\"\n",
        "  , \"When I opened the door yesterday, I was surprised to find a package I wasn’t expecting. But then, as I opened it, I started feeling anxious about what might be inside. what if it was something important I had missed?\",\n",
        "  \"I felt a deep sadness yesterday when I realized how much I miss my family. Even though I love them and they love me, the distance has created an aching feeling that I can’t seem to shake.\"\n",
        "\n",
        "  ]\n",
        "\n",
        "\n",
        "print(\"\\nTesting examples:\")\n",
        "for ex in contradictingexamples:\n",
        "    predict_emotion(ex)\n",
        "\n"
      ],
      "metadata": {
        "colab": {
          "base_uri": "https://localhost:8080/"
        },
        "id": "Or-mAwmNVhlz",
        "outputId": "2eeb10de-f607-48a8-a4b5-ddc898aca98f"
      },
      "execution_count": null,
      "outputs": [
        {
          "output_type": "stream",
          "name": "stdout",
          "text": [
            "\n",
            "Testing examples:\n",
            "\n",
            " \"Yesterday, I was overjoyed about my promotion at work, but my excitement quickly turned to frustration when I found out that I had to handle more responsibility without any additional support from the team\"\n",
            "────────────────────────────────────────────────────────────\n",
            "Full FT ->  JOY        (99.6%)\n",
            "LoRA    ->  JOY        (94.2%)\n",
            ":D Agree: JOY\n",
            "\n",
            " \"When I opened the door yesterday, I was surprised to find a package I wasn’t expecting. But then, as I opened it, I started feeling anxious about what might be inside. what if it was something important I had missed?\"\n",
            "────────────────────────────────────────────────────────────\n",
            "Full FT ->  FEAR       (99.8%)\n",
            "LoRA    ->  FEAR       (97.9%)\n",
            ":D Agree: FEAR\n",
            "\n",
            " \"I felt a deep sadness yesterday when I realized how much I miss my family. Even though I love them and they love me, the distance has created an aching feeling that I can’t seem to shake.\"\n",
            "────────────────────────────────────────────────────────────\n",
            "Full FT ->  SADNESS    (99.9%)\n",
            "LoRA    ->  SADNESS    (95.2%)\n",
            ":D Agree: SADNESS\n"
          ]
        }
      ]
    },
    {
      "cell_type": "markdown",
      "source": [
        "# Examples that have sacarstic tones"
      ],
      "metadata": {
        "id": "l_rPECfiWNxU"
      }
    },
    {
      "cell_type": "code",
      "source": [
        "ironicexamples = [\n",
        "  \"lol, it's okay, I wasn't planning on sleeping anyways. Who needs sleep when there are deadlines to meet?\",\n",
        "  \"I’m absolutely thrilled to handle this impossible task you just dropped on my lap\",\n",
        "  \"Oh great! another teams message I didn’t ask for. And right when I was planning to leave the office. Just what I needed to brighten my day.\"\n",
        "\n",
        "  ]\n",
        "\n",
        "\n",
        "print(\"\\nTesting examples:\")\n",
        "for ex in ironicexamples:\n",
        "    predict_emotion(ex)"
      ],
      "metadata": {
        "colab": {
          "base_uri": "https://localhost:8080/"
        },
        "id": "5msyMDMBWRGH",
        "outputId": "0f3314c1-8962-4629-86b9-968508d0fbe7"
      },
      "execution_count": null,
      "outputs": [
        {
          "output_type": "stream",
          "name": "stdout",
          "text": [
            "\n",
            "Testing examples:\n",
            "\n",
            " \"lol, it's okay, I wasn't planning on sleeping anyways. Who needs sleep when there are deadlines to meet?\"\n",
            "────────────────────────────────────────────────────────────\n",
            "Full FT ->  JOY        (62.7%)\n",
            "LoRA    ->  JOY        (42.7%)\n",
            ":D Agree: JOY\n",
            "\n",
            " \"I’m absolutely thrilled to handle this impossible task you just dropped on my lap\"\n",
            "────────────────────────────────────────────────────────────\n",
            "Full FT ->  JOY        (99.9%)\n",
            "LoRA    ->  JOY        (99.6%)\n",
            ":D Agree: JOY\n",
            "\n",
            " \"Oh great! another teams message I didn’t ask for. And right when I was planning to leave the office. Just what I needed to brighten my day.\"\n",
            "────────────────────────────────────────────────────────────\n",
            "Full FT ->  JOY        (98.5%)\n",
            "LoRA    ->  JOY        (97.5%)\n",
            ":D Agree: JOY\n"
          ]
        }
      ]
    },
    {
      "cell_type": "markdown",
      "source": [
        "# Mapping DSM-5 Symptoms to Emotions"
      ],
      "metadata": {
        "id": "xJXni-8ibA4M"
      }
    },
    {
      "cell_type": "code",
      "source": [
        "dsm5examples = [\n",
        "  \"Depressed mood most of the day, nearly every day; markedly diminished interest or pleasure in all or almost all activities; significant weight loss or weight gain; insomnia or excessive sleeping; fatigue or loss of energy; feelings of worthlessness or excessive guilt; diminished ability to think or concentrate, or indecisiveness; thoughts of death or suicide, or suicide attempts.\",\n",
        "  \"Excessive worry occurring more days than not for at least six months; difficulty controlling the worry; restlessness or feeling on edge; easily fatigued; difficulty concentrating or mind going blank; irritability; muscle tension; sleep disturbance.\",\n",
        "  \"Restricting food intake leading to significantly low body weight (Anorexia); recurrent episodes of binge eating followed by inappropriate compensatory behaviors (Bulimia); extreme concern about body image and weight; distorted perception of weight or body size.\",\n",
        "  \"Persistent pattern of inattention and/or hyperactivity-impulsivity that interferes with functioning or development; difficulty focusing on tasks, forgetfulness, impulsivity, restlessness, and a lack of organization.\"\n",
        "\n",
        "  ]\n",
        "\n",
        "\n",
        "print(\"\\nTesting examples:\")\n",
        "for ex in dsm5examples:\n",
        "    predict_emotion(ex)"
      ],
      "metadata": {
        "colab": {
          "base_uri": "https://localhost:8080/"
        },
        "id": "LHuoPZwebDvA",
        "outputId": "0d73a202-8f48-47a9-fb51-6319c5417ad6"
      },
      "execution_count": null,
      "outputs": [
        {
          "output_type": "stream",
          "name": "stdout",
          "text": [
            "\n",
            "Testing examples:\n",
            "\n",
            " \"Depressed mood most of the day, nearly every day; markedly diminished interest or pleasure in all or almost all activities; significant weight loss or weight gain; insomnia or excessive sleeping; fatigue or loss of energy; feelings of worthlessness or excessive guilt; diminished ability to think or concentrate, or indecisiveness; thoughts of death or suicide, or suicide attempts.\"\n",
            "────────────────────────────────────────────────────────────\n",
            "Full FT ->  SADNESS    (99.9%)\n",
            "LoRA    ->  SADNESS    (99.9%)\n",
            ":D Agree: SADNESS\n",
            "\n",
            " \"Excessive worry occurring more days than not for at least six months; difficulty controlling the worry; restlessness or feeling on edge; easily fatigued; difficulty concentrating or mind going blank; irritability; muscle tension; sleep disturbance.\"\n",
            "────────────────────────────────────────────────────────────\n",
            "Full FT ->  SADNESS    (92.9%)\n",
            "LoRA    ->  FEAR       (84.2%)\n",
            ":( Disagree! SADNESS vs FEAR\n",
            "\n",
            " \"Restricting food intake leading to significantly low body weight (Anorexia); recurrent episodes of binge eating followed by inappropriate compensatory behaviors (Bulimia); extreme concern about body image and weight; distorted perception of weight or body size.\"\n",
            "────────────────────────────────────────────────────────────\n",
            "Full FT ->  SADNESS    (53.0%)\n",
            "LoRA    ->  SADNESS    (95.6%)\n",
            ":D Agree: SADNESS\n",
            "\n",
            " \"Persistent pattern of inattention and/or hyperactivity-impulsivity that interferes with functioning or development; difficulty focusing on tasks, forgetfulness, impulsivity, restlessness, and a lack of organization.\"\n",
            "────────────────────────────────────────────────────────────\n",
            "Full FT ->  FEAR       (95.5%)\n",
            "LoRA    ->  FEAR       (83.6%)\n",
            ":D Agree: FEAR\n"
          ]
        }
      ]
    },
    {
      "cell_type": "markdown",
      "source": [
        "# Interactive Section!\n",
        "You can key in your own sentence in the text bar :D If you want to exit, just press ENter in the space bar"
      ],
      "metadata": {
        "id": "OkRDWJgzQhV_"
      }
    },
    {
      "cell_type": "code",
      "source": [
        "# Interactive input\n",
        "\n",
        "print(\"Type sentences (Enter to stop):\")\n",
        "\n",
        "\n",
        "user_tests = []\n",
        "while True:\n",
        "    text = input(\"\\n  Sentence: \").strip()\n",
        "    if not text:\n",
        "        break\n",
        "    result = predict_emotion(text)\n",
        "\n",
        "\n",
        "print(\"\\nDemo complete!\")"
      ],
      "metadata": {
        "id": "poYlNKNWxeLZ",
        "colab": {
          "base_uri": "https://localhost:8080/"
        },
        "outputId": "c0deb3a9-c7e6-4b0f-ba73-4ae8375808c0"
      },
      "execution_count": null,
      "outputs": [
        {
          "output_type": "stream",
          "name": "stdout",
          "text": [
            "Type sentences (Enter to stop):\n",
            "\n",
            "  Sentence: \n",
            "\n",
            "Demo complete!\n"
          ]
        }
      ]
    }
  ]
}