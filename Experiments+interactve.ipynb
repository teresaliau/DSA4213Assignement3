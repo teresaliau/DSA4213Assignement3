{
  "nbformat": 4,
  "nbformat_minor": 0,
  "metadata": {
    "colab": {
      "provenance": [],
      "gpuType": "T4",
      "mount_file_id": "1dPEyWuCy_39AmI_BtJE4bvYtbHuLnJ9l",
      "authorship_tag": "ABX9TyP5chnkYTMlLZe3Nzyi+DTG",
      "include_colab_link": true
    },
    "kernelspec": {
      "name": "python3",
      "display_name": "Python 3"
    },
    "language_info": {
      "name": "python"
    },
    "accelerator": "GPU"
  },
  "cells": [
    {
      "cell_type": "markdown",
      "metadata": {
        "id": "view-in-github",
        "colab_type": "text"
      },
      "source": [
        "<a href=\"https://colab.research.google.com/github/teresaliau/DSA4213Assignement3/blob/main/Experiments%2Binteractve.ipynb\" target=\"_parent\"><img src=\"https://colab.research.google.com/assets/colab-badge.svg\" alt=\"Open In Colab\"/></a>"
      ]
    },
    {
      "cell_type": "code",
      "source": [
        "from google.colab import drive\n",
        "drive.mount('/content/drive')\n",
        "\n",
        "from transformers import AutoTokenizer, AutoModelForSequenceClassification\n",
        "import torch\n",
        "import json\n",
        "\n",
        "\n",
        "print(\"Loading tokenizer\")\n",
        "tokenizer = AutoTokenizer.from_pretrained(\"distilbert-base-uncased\")\n",
        "\n",
        "# Load models\n",
        "model_path_full = '/content/drive/MyDrive/DSA4213_Models/model_full_finetuned'\n",
        "model_path_lora = '/content/drive/MyDrive/DSA4213_Models/model_lora_adapter'\n",
        "\n",
        "# Load models\n",
        "model_full = AutoModelForSequenceClassification.from_pretrained(model_path_full, num_labels=6)\n",
        "model_lora = AutoModelForSequenceClassification.from_pretrained(model_path_lora, num_labels=6)"
      ],
      "metadata": {
        "colab": {
          "base_uri": "https://localhost:8080/"
        },
        "id": "5WIzINSJtwhQ",
        "outputId": "4fe6b777-a2a2-4d4b-9e4d-b152b28e3276"
      },
      "execution_count": 15,
      "outputs": [
        {
          "output_type": "stream",
          "name": "stdout",
          "text": [
            "Drive already mounted at /content/drive; to attempt to forcibly remount, call drive.mount(\"/content/drive\", force_remount=True).\n",
            "Loading tokenizer\n"
          ]
        },
        {
          "output_type": "stream",
          "name": "stderr",
          "text": [
            "Some weights of DistilBertForSequenceClassification were not initialized from the model checkpoint at distilbert-base-uncased and are newly initialized: ['classifier.bias', 'classifier.weight', 'pre_classifier.bias', 'pre_classifier.weight']\n",
            "You should probably TRAIN this model on a down-stream task to be able to use it for predictions and inference.\n"
          ]
        }
      ]
    },
    {
      "cell_type": "code",
      "execution_count": 19,
      "metadata": {
        "colab": {
          "base_uri": "https://localhost:8080/"
        },
        "id": "_HrckzS8rC0g",
        "outputId": "4bdd1282-a597-454b-b607-42216cdc952a"
      },
      "outputs": [
        {
          "output_type": "stream",
          "name": "stdout",
          "text": [
            "\n",
            "Tokenizing datasets...\n",
            "\n",
            "Testing examples:\n",
            "\n",
            " \"I'm so excited about this!\"\n",
            "────────────────────────────────────────────────────────────\n",
            "Full FT → JOY        (99.8%)\n",
            "LoRA    → JOY        (99.8%)\n",
            ":D Agree: JOY\n",
            "\n",
            " \"I feel really sad and alone\"\n",
            "────────────────────────────────────────────────────────────\n",
            "Full FT → SADNESS    (99.9%)\n",
            "LoRA    → SADNESS    (100.0%)\n",
            ":D Agree: SADNESS\n",
            "\n",
            " \"I love you so much\"\n",
            "────────────────────────────────────────────────────────────\n",
            "Full FT → LOVE       (92.1%)\n",
            "LoRA    → LOVE       (97.8%)\n",
            ":D Agree: LOVE\n",
            "\n",
            " \"This makes me so angry!\"\n",
            "────────────────────────────────────────────────────────────\n",
            "Full FT → ANGER      (99.8%)\n",
            "LoRA    → ANGER      (100.0%)\n",
            ":D Agree: ANGER\n",
            "\n",
            " \"Oh, great. Another day of happiness, just wonderful!\"\n",
            "────────────────────────────────────────────────────────────\n",
            "Full FT → JOY        (99.8%)\n",
            "LoRA    → JOY        (98.7%)\n",
            ":D Agree: JOY\n"
          ]
        }
      ],
      "source": [
        "\n",
        "# Set device\n",
        "device = torch.device(\"cuda\" if torch.cuda.is_available() else \"cpu\")\n",
        "model_full.to(device)\n",
        "model_lora.to(device)\n",
        "\n",
        "# Define label names\n",
        "label_names = ['sadness', 'joy', 'love', 'anger', 'fear', 'surprise']\n",
        "\n",
        "# Tokenization function\n",
        "def tokenize_function(examples):\n",
        "    return tokenizer(\n",
        "        examples[\"text\"],\n",
        "        padding=\"max_length\",\n",
        "        truncation=True,\n",
        "        max_length=128\n",
        "    )\n",
        "\n",
        "# Sample dataset (use your actual dataset here)\n",
        "dataset = [\n",
        "    {\"text\": \"I'm so excited about this!\"},\n",
        "    {\"text\": \"I feel really sad and alone\"},\n",
        "    {\"text\": \"I love you so much\"},\n",
        "    {\"text\": \"This makes me so angry!\"}\n",
        "]\n",
        "\n",
        "# Tokenize the dataset (assuming your dataset is a list of dicts)\n",
        "print(\"\\nTokenizing datasets...\")\n",
        "tokenized_datasets = [tokenize_function(ex) for ex in dataset]\n",
        "\n",
        "# Prediction function\n",
        "def predict_emotion(text):\n",
        "    \"\"\"Predict emotion for your text using both Full FT and LoRA models\"\"\"\n",
        "    inputs = tokenizer(text, return_tensors=\"pt\", truncation=True, max_length=128, padding=True)\n",
        "    inputs = {k: v.to(device) for k, v in inputs.items()}\n",
        "\n",
        "    # Full FT prediction\n",
        "    model_full.eval()\n",
        "    with torch.no_grad():\n",
        "        outputs_full = model_full(**inputs)\n",
        "        probs_full = torch.nn.functional.softmax(outputs_full.logits, dim=-1)[0]\n",
        "        pred_full = torch.argmax(probs_full).item()\n",
        "\n",
        "    # LoRA prediction\n",
        "    model_lora.eval()\n",
        "    with torch.no_grad():\n",
        "        outputs_lora = model_lora(**inputs)\n",
        "        probs_lora = torch.nn.functional.softmax(outputs_lora.logits, dim=-1)[0]\n",
        "        pred_lora = torch.argmax(probs_lora).item()\n",
        "\n",
        "    # Display results and compare predictions\n",
        "    print(f\"\\n \\\"{text}\\\"\")\n",
        "    print(f\"{'─'*60}\")\n",
        "    print(f\"Full FT → {label_names[pred_full].upper():10s} ({probs_full[pred_full]*100:.1f}%)\")\n",
        "    print(f\"LoRA    → {label_names[pred_lora].upper():10s} ({probs_lora[pred_lora]*100:.1f}%)\")\n",
        "\n",
        "    if pred_full == pred_lora:\n",
        "        print(f\":D Agree: {label_names[pred_full].upper()}\")\n",
        "    else:\n",
        "        print(f\":( Disagree! {label_names[pred_full].upper()} vs {label_names[pred_lora].upper()}\")\n",
        "\n",
        "    return {\n",
        "        'text': text,\n",
        "        'full_ft': label_names[pred_full],\n",
        "        'full_conf': float(probs_full[pred_full]),\n",
        "        'lora': label_names[pred_lora],\n",
        "        'lora_conf': float(probs_lora[pred_lora]),\n",
        "        'agree': pred_full == pred_lora\n",
        "    }\n",
        "\n",
        "# Test examples\n",
        "examples = [\n",
        "    \"I'm so excited about this!\",\n",
        "    \"I feel really sad and alone\",\n",
        "    \"I love you so much\",\n",
        "    \"This makes me so angry!\",\n",
        "    \"Oh, great. Another day of happiness, just wonderful!\"\n",
        "]\n",
        "\n",
        "\n",
        "\n",
        "print(\"\\nTesting examples:\")\n",
        "for ex in examples:\n",
        "    predict_emotion(ex)\n",
        "\n"
      ]
    },
    {
      "cell_type": "code",
      "source": [
        "# Interactive input\n",
        "print(\"\\n\" + \"=\"*70)\n",
        "print(\"Type sentences (Enter to stop):\")\n",
        "print(\"=\"*70)\n",
        "\n",
        "user_tests = []\n",
        "while True:\n",
        "    text = input(\"\\n  Sentence: \").strip()\n",
        "    if not text:\n",
        "        break\n",
        "    result = predict_emotion(text)\n",
        "    user_tests.append(result)\n",
        "\n",
        "# Save user tests to a file\n",
        "if user_tests:\n",
        "    with open('user_predictions.json', 'w') as f:\n",
        "        json.dump(user_tests, f, indent=2)\n",
        "    print(f\"\\nSaved {len(user_tests)} predictions to user_predictions.json\")\n",
        "\n",
        "print(\"\\nDemo complete!\")"
      ],
      "metadata": {
        "id": "poYlNKNWxeLZ"
      },
      "execution_count": null,
      "outputs": []
    }
  ]
}